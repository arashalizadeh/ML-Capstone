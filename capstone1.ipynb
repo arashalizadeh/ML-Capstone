{
 "cells": [
  {
   "cell_type": "code",
   "execution_count": 175,
   "metadata": {},
   "outputs": [],
   "source": [
    "%matplotlib inline\n",
    "import matplotlib.pyplot as plt\n",
    "import numpy as np\n",
    "import pandas as pd\n",
    "import seaborn as sns"
   ]
  },
  {
   "cell_type": "code",
   "execution_count": 119,
   "metadata": {},
   "outputs": [],
   "source": [
    "from sklearn.linear_model import LinearRegression, LogisticRegression, Ridge\n",
    "from sklearn.model_selection import train_test_split\n",
    "from sklearn.neighbors import KNeighborsClassifier\n",
    "from sklearn.pipeline import Pipeline\n",
    "from sklearn.preprocessing import StandardScaler\n",
    "from sklearn.base import BaseEstimator, TransformerMixin\n",
    "from sklearn.tree import DecisionTreeRegressor\n",
    "from sklearn.cluster import AgglomerativeClustering, KMeans, SpectralClustering\n",
    "from sklearn.mixture import GaussianMixture\n",
    "from sklearn.decomposition import PCA\n",
    "from sklearn.feature_selection import SelectKBest, SelectFromModel, RFE\n",
    "from sklearn.ensemble import RandomForestClassifier\n",
    "from sklearn.svm import SVC\n",
    "from sklearn.impute import KNNImputer\n",
    "from sklearn.metrics import mean_squared_error"
   ]
  },
  {
   "cell_type": "code",
   "execution_count": 3,
   "metadata": {},
   "outputs": [
    {
     "name": "stderr",
     "output_type": "stream",
     "text": [
      "C:\\Users\\ARASH-FEA\\.conda\\envs\\py37\\lib\\site-packages\\sklearn\\utils\\deprecation.py:144: FutureWarning: The sklearn.metrics.classification module is  deprecated in version 0.22 and will be removed in version 0.24. The corresponding classes / functions should instead be imported from sklearn.metrics. Anything that cannot be imported from sklearn.metrics is now part of the private API.\n",
      "  warnings.warn(message, FutureWarning)\n"
     ]
    }
   ],
   "source": [
    "import datetime\n",
    "import scikitplot as skplt\n",
    "import yellowbrick"
   ]
  },
  {
   "cell_type": "code",
   "execution_count": 4,
   "metadata": {},
   "outputs": [],
   "source": [
    "df = pd.read_csv('member_sample.csv', index_col=0)\n",
    "df_c = df.copy()"
   ]
  },
  {
   "cell_type": "code",
   "execution_count": 5,
   "metadata": {},
   "outputs": [
    {
     "name": "stdout",
     "output_type": "stream",
     "text": [
      "<class 'pandas.core.frame.DataFrame'>\n",
      "Int64Index: 21344 entries, 0 to 99998\n",
      "Columns: 112 entries, Individual Key to Was Towed To AAR Referral\n",
      "dtypes: float64(35), object(77)\n",
      "memory usage: 18.4+ MB\n"
     ]
    }
   ],
   "source": [
    "df_c.info()"
   ]
  },
  {
   "cell_type": "code",
   "execution_count": 6,
   "metadata": {},
   "outputs": [
    {
     "data": {
      "text/html": [
       "<div>\n",
       "<style scoped>\n",
       "    .dataframe tbody tr th:only-of-type {\n",
       "        vertical-align: middle;\n",
       "    }\n",
       "\n",
       "    .dataframe tbody tr th {\n",
       "        vertical-align: top;\n",
       "    }\n",
       "\n",
       "    .dataframe thead th {\n",
       "        text-align: right;\n",
       "    }\n",
       "</style>\n",
       "<table border=\"1\" class=\"dataframe\">\n",
       "  <thead>\n",
       "    <tr style=\"text-align: right;\">\n",
       "      <th></th>\n",
       "      <th>Individual Key</th>\n",
       "      <th>Household Key</th>\n",
       "      <th>Member Flag</th>\n",
       "      <th>City</th>\n",
       "      <th>State - Grouped</th>\n",
       "      <th>ZIP5</th>\n",
       "      <th>ZIP9</th>\n",
       "      <th>FSV CMSI Flag</th>\n",
       "      <th>FSV Credit Card Flag</th>\n",
       "      <th>FSV Deposit Program Flag</th>\n",
       "      <th>...</th>\n",
       "      <th>SC Vehicle Manufacturer Name</th>\n",
       "      <th>SC Vehicle Model Name</th>\n",
       "      <th>SVC Facility Name</th>\n",
       "      <th>SVC Facility Type</th>\n",
       "      <th>Total Cost</th>\n",
       "      <th>Tow Destination Latitude</th>\n",
       "      <th>Tow Destination Longitude</th>\n",
       "      <th>Tow Destination Name</th>\n",
       "      <th>Was Duplicated</th>\n",
       "      <th>Was Towed To AAR Referral</th>\n",
       "    </tr>\n",
       "  </thead>\n",
       "  <tbody>\n",
       "    <tr>\n",
       "      <th>0</th>\n",
       "      <td>10000003.0</td>\n",
       "      <td>10462590.0</td>\n",
       "      <td>Y</td>\n",
       "      <td>NEW HAVEN</td>\n",
       "      <td>CT</td>\n",
       "      <td>6511.0</td>\n",
       "      <td>65111349.0</td>\n",
       "      <td>N</td>\n",
       "      <td>N</td>\n",
       "      <td>N</td>\n",
       "      <td>...</td>\n",
       "      <td>NaN</td>\n",
       "      <td>NaN</td>\n",
       "      <td>NaN</td>\n",
       "      <td>NaN</td>\n",
       "      <td>NaN</td>\n",
       "      <td>NaN</td>\n",
       "      <td>NaN</td>\n",
       "      <td>NaN</td>\n",
       "      <td>NaN</td>\n",
       "      <td>NaN</td>\n",
       "    </tr>\n",
       "    <tr>\n",
       "      <th>1</th>\n",
       "      <td>52211550.0</td>\n",
       "      <td>4500791.0</td>\n",
       "      <td>Y</td>\n",
       "      <td>WEST WARWICK</td>\n",
       "      <td>RI</td>\n",
       "      <td>2893.0</td>\n",
       "      <td>28933850.0</td>\n",
       "      <td>N</td>\n",
       "      <td>Y</td>\n",
       "      <td>N</td>\n",
       "      <td>...</td>\n",
       "      <td>TOYOTA</td>\n",
       "      <td>CAMRY</td>\n",
       "      <td>ASTRO WRECKER SERVICE</td>\n",
       "      <td>independent repair</td>\n",
       "      <td>32.5</td>\n",
       "      <td>41.0</td>\n",
       "      <td>-71.0</td>\n",
       "      <td>Aar / Johnson's Auto Service</td>\n",
       "      <td>0.0</td>\n",
       "      <td>1.0</td>\n",
       "    </tr>\n",
       "    <tr>\n",
       "      <th>2</th>\n",
       "      <td>52211550.0</td>\n",
       "      <td>4500791.0</td>\n",
       "      <td>Y</td>\n",
       "      <td>WEST WARWICK</td>\n",
       "      <td>RI</td>\n",
       "      <td>2893.0</td>\n",
       "      <td>28933850.0</td>\n",
       "      <td>N</td>\n",
       "      <td>Y</td>\n",
       "      <td>N</td>\n",
       "      <td>...</td>\n",
       "      <td>TOYOTA</td>\n",
       "      <td>CAMRY</td>\n",
       "      <td>Astro Wrecker Service</td>\n",
       "      <td>independent repair</td>\n",
       "      <td>30.0</td>\n",
       "      <td>0.0</td>\n",
       "      <td>0.0</td>\n",
       "      <td>NaN</td>\n",
       "      <td>0.0</td>\n",
       "      <td>0.0</td>\n",
       "    </tr>\n",
       "    <tr>\n",
       "      <th>3</th>\n",
       "      <td>52211550.0</td>\n",
       "      <td>4500791.0</td>\n",
       "      <td>Y</td>\n",
       "      <td>WEST WARWICK</td>\n",
       "      <td>RI</td>\n",
       "      <td>2893.0</td>\n",
       "      <td>28933850.0</td>\n",
       "      <td>N</td>\n",
       "      <td>Y</td>\n",
       "      <td>N</td>\n",
       "      <td>...</td>\n",
       "      <td>TOYOTA</td>\n",
       "      <td>CAMRY</td>\n",
       "      <td>ASTRO WRECKER SERVICE</td>\n",
       "      <td>independent repair</td>\n",
       "      <td>32.5</td>\n",
       "      <td>0.0</td>\n",
       "      <td>0.0</td>\n",
       "      <td>NaN</td>\n",
       "      <td>0.0</td>\n",
       "      <td>0.0</td>\n",
       "    </tr>\n",
       "    <tr>\n",
       "      <th>4</th>\n",
       "      <td>52211550.0</td>\n",
       "      <td>4500791.0</td>\n",
       "      <td>Y</td>\n",
       "      <td>WEST WARWICK</td>\n",
       "      <td>RI</td>\n",
       "      <td>2893.0</td>\n",
       "      <td>28933850.0</td>\n",
       "      <td>N</td>\n",
       "      <td>Y</td>\n",
       "      <td>N</td>\n",
       "      <td>...</td>\n",
       "      <td>TOYOTA</td>\n",
       "      <td>CAMRY</td>\n",
       "      <td>ASTRO WRECKER SERVICE</td>\n",
       "      <td>independent repair</td>\n",
       "      <td>30.0</td>\n",
       "      <td>0.0</td>\n",
       "      <td>0.0</td>\n",
       "      <td>NaN</td>\n",
       "      <td>0.0</td>\n",
       "      <td>0.0</td>\n",
       "    </tr>\n",
       "  </tbody>\n",
       "</table>\n",
       "<p>5 rows × 112 columns</p>\n",
       "</div>"
      ],
      "text/plain": [
       "   Individual Key  Household Key Member Flag          City State - Grouped  \\\n",
       "0      10000003.0     10462590.0           Y     NEW HAVEN              CT   \n",
       "1      52211550.0      4500791.0           Y  WEST WARWICK              RI   \n",
       "2      52211550.0      4500791.0           Y  WEST WARWICK              RI   \n",
       "3      52211550.0      4500791.0           Y  WEST WARWICK              RI   \n",
       "4      52211550.0      4500791.0           Y  WEST WARWICK              RI   \n",
       "\n",
       "     ZIP5        ZIP9 FSV CMSI Flag FSV Credit Card Flag  \\\n",
       "0  6511.0  65111349.0             N                    N   \n",
       "1  2893.0  28933850.0             N                    Y   \n",
       "2  2893.0  28933850.0             N                    Y   \n",
       "3  2893.0  28933850.0             N                    Y   \n",
       "4  2893.0  28933850.0             N                    Y   \n",
       "\n",
       "  FSV Deposit Program Flag  ... SC Vehicle Manufacturer Name  \\\n",
       "0                        N  ...                          NaN   \n",
       "1                        N  ...                       TOYOTA   \n",
       "2                        N  ...                       TOYOTA   \n",
       "3                        N  ...                       TOYOTA   \n",
       "4                        N  ...                       TOYOTA   \n",
       "\n",
       "  SC Vehicle Model Name      SVC Facility Name   SVC Facility Type Total Cost  \\\n",
       "0                   NaN                    NaN                 NaN        NaN   \n",
       "1                 CAMRY  ASTRO WRECKER SERVICE  independent repair       32.5   \n",
       "2                 CAMRY  Astro Wrecker Service  independent repair       30.0   \n",
       "3                 CAMRY  ASTRO WRECKER SERVICE  independent repair       32.5   \n",
       "4                 CAMRY  ASTRO WRECKER SERVICE  independent repair       30.0   \n",
       "\n",
       "  Tow Destination Latitude Tow Destination Longitude  \\\n",
       "0                      NaN                       NaN   \n",
       "1                     41.0                     -71.0   \n",
       "2                      0.0                       0.0   \n",
       "3                      0.0                       0.0   \n",
       "4                      0.0                       0.0   \n",
       "\n",
       "           Tow Destination Name  Was Duplicated Was Towed To AAR Referral  \n",
       "0                           NaN             NaN                       NaN  \n",
       "1  Aar / Johnson's Auto Service             0.0                       1.0  \n",
       "2                           NaN             0.0                       0.0  \n",
       "3                           NaN             0.0                       0.0  \n",
       "4                           NaN             0.0                       0.0  \n",
       "\n",
       "[5 rows x 112 columns]"
      ]
     },
     "execution_count": 6,
     "metadata": {},
     "output_type": "execute_result"
    }
   ],
   "source": [
    "df_c.head()"
   ]
  },
  {
   "cell_type": "code",
   "execution_count": 7,
   "metadata": {},
   "outputs": [],
   "source": [
    "nulls = df_c.isnull().sum()"
   ]
  },
  {
   "cell_type": "code",
   "execution_count": 8,
   "metadata": {},
   "outputs": [
    {
     "data": {
      "text/plain": [
       "<matplotlib.axes._subplots.AxesSubplot at 0x21b71a66688>"
      ]
     },
     "execution_count": 8,
     "metadata": {},
     "output_type": "execute_result"
    },
    {
     "data": {
      "image/png": "[encoded data removed]",
      "text/plain": [
       "<Figure size 1440x576 with 1 Axes>"
      ]
     },
     "metadata": {},
     "output_type": "display_data"
    }
   ],
   "source": [
    "nulls.nlargest(30).plot(kind='bar', figsize = (20,8))"
   ]
  },
  {
   "cell_type": "code",
   "execution_count": 9,
   "metadata": {},
   "outputs": [
    {
     "data": {
      "text/plain": [
       "ACTIVE       11808\n",
       "CANCELLED     8177\n",
       "PENDING       1358\n",
       "NaN              1\n",
       "Name: Member Status, dtype: int64"
      ]
     },
     "execution_count": 9,
     "metadata": {},
     "output_type": "execute_result"
    }
   ],
   "source": [
    "# remove canceld members who does not have 'ERS ENT COUNT' from DataFrame\n",
    "df_c['Member Status'].value_counts(dropna=False)"
   ]
  },
  {
   "cell_type": "code",
   "execution_count": 10,
   "metadata": {},
   "outputs": [
    {
     "data": {
      "text/plain": [
       "(8177, 112)"
      ]
     },
     "execution_count": 10,
     "metadata": {},
     "output_type": "execute_result"
    }
   ],
   "source": [
    "df_c[df_c['Member Status'] == 'CANCELLED'].shape"
   ]
  },
  {
   "cell_type": "code",
   "execution_count": 11,
   "metadata": {},
   "outputs": [
    {
     "data": {
      "text/plain": [
       "0.0    8658\n",
       "NaN    4669\n",
       "1.0    3873\n",
       "2.0    1925\n",
       "3.0    1127\n",
       "4.0     732\n",
       "5.0     254\n",
       "6.0      70\n",
       "7.0      21\n",
       "9.0      15\n",
       "Name: ERS ENT Count Year 3, dtype: int64"
      ]
     },
     "execution_count": 11,
     "metadata": {},
     "output_type": "execute_result"
    }
   ],
   "source": [
    "df_c['ERS ENT Count Year 3'].value_counts(dropna=False)"
   ]
  },
  {
   "cell_type": "code",
   "execution_count": 12,
   "metadata": {},
   "outputs": [
    {
     "name": "stdout",
     "output_type": "stream",
     "text": [
      "<class 'pandas.core.frame.DataFrame'>\n",
      "Int64Index: 16675 entries, 1 to 99998\n",
      "Columns: 112 entries, Individual Key to Was Towed To AAR Referral\n",
      "dtypes: float64(35), object(77)\n",
      "memory usage: 14.4+ MB\n"
     ]
    },
    {
     "data": {
      "text/plain": [
       "ACTIVE       11808\n",
       "CANCELLED     3509\n",
       "PENDING       1358\n",
       "Name: Member Status, dtype: int64"
      ]
     },
     "execution_count": 12,
     "metadata": {},
     "output_type": "execute_result"
    }
   ],
   "source": [
    "df_c = df_c.dropna(how='any', subset=['ERS ENT Count Year 3'])\n",
    "df_c.info()\n",
    "df_c['Member Status'].value_counts(dropna=False)"
   ]
  },
  {
   "cell_type": "code",
   "execution_count": 13,
   "metadata": {},
   "outputs": [
    {
     "data": {
      "text/plain": [
       "0.00      8636\n",
       "53.00     1521\n",
       "106.00     539\n",
       "58.85      532\n",
       "32.50      276\n",
       "          ... \n",
       "33.95        1\n",
       "82.71        1\n",
       "120.70       1\n",
       "68.80        1\n",
       "263.00       1\n",
       "Name: ERS Member Cost Year 3, Length: 579, dtype: int64"
      ]
     },
     "execution_count": 13,
     "metadata": {},
     "output_type": "execute_result"
    }
   ],
   "source": [
    "df_c['ERS Member Cost Year 3'].value_counts(dropna=False)"
   ]
  },
  {
   "cell_type": "code",
   "execution_count": 14,
   "metadata": {},
   "outputs": [],
   "source": [
    "# use 'unknown' for all missing values in df ===> No. that's not a good idea.\n",
    "#df_c['Income'].value_counts(dropna=False)"
   ]
  },
  {
   "cell_type": "code",
   "execution_count": 15,
   "metadata": {},
   "outputs": [],
   "source": [
    "#df_c.info()"
   ]
  },
  {
   "cell_type": "code",
   "execution_count": 16,
   "metadata": {
    "scrolled": true
   },
   "outputs": [],
   "source": [
    "#df_c['Income'].fillna('unknown', inplace = True)\n",
    "#df_c = df_c[df_c['Income'].astype(bool)]\n",
    "#df_c['Income'].astype(bool).value_counts()\n",
    "#df_c.info()"
   ]
  },
  {
   "cell_type": "code",
   "execution_count": 17,
   "metadata": {},
   "outputs": [],
   "source": [
    "#df_c['Income'].value_counts(dropna=False)"
   ]
  },
  {
   "cell_type": "code",
   "execution_count": 18,
   "metadata": {},
   "outputs": [],
   "source": [
    "#df_c['Income'].head(50)"
   ]
  },
  {
   "cell_type": "code",
   "execution_count": 19,
   "metadata": {},
   "outputs": [],
   "source": [
    "#df_c.fillna('unknown', inplace = True)"
   ]
  },
  {
   "cell_type": "code",
   "execution_count": null,
   "metadata": {},
   "outputs": [],
   "source": []
  },
  {
   "cell_type": "code",
   "execution_count": null,
   "metadata": {},
   "outputs": [],
   "source": []
  },
  {
   "cell_type": "code",
   "execution_count": 22,
   "metadata": {},
   "outputs": [
    {
     "data": {
      "text/plain": [
       "<matplotlib.axes._subplots.AxesSubplot at 0x21b745a6988>"
      ]
     },
     "execution_count": 22,
     "metadata": {},
     "output_type": "execute_result"
    },
    {
     "data": {
      "image/png": "[encoded data removed]",
      "text/plain": [
       "<Figure size 1440x576 with 1 Axes>"
      ]
     },
     "metadata": {},
     "output_type": "display_data"
    }
   ],
   "source": [
    "df_c['Income'].value_counts(dropna=False).plot(kind='bar', figsize = (20,8))"
   ]
  },
  {
   "cell_type": "code",
   "execution_count": 39,
   "metadata": {},
   "outputs": [
    {
     "data": {
      "text/plain": [
       "(16675,)"
      ]
     },
     "execution_count": 39,
     "metadata": {},
     "output_type": "execute_result"
    }
   ],
   "source": [
    "df_c['Household Key'].shape"
   ]
  },
  {
   "cell_type": "code",
   "execution_count": 40,
   "metadata": {},
   "outputs": [
    {
     "data": {
      "text/plain": [
       "(16675,)"
      ]
     },
     "execution_count": 40,
     "metadata": {},
     "output_type": "execute_result"
    }
   ],
   "source": [
    "df_c['Household Key'].value_counts(dropna=False)\n",
    "df_c['Household Key'].dropna().shape"
   ]
  },
  {
   "cell_type": "code",
   "execution_count": 41,
   "metadata": {},
   "outputs": [
    {
     "data": {
      "text/plain": [
       "(16675,)"
      ]
     },
     "execution_count": 41,
     "metadata": {},
     "output_type": "execute_result"
    }
   ],
   "source": [
    "df_c['Income'].shape"
   ]
  },
  {
   "cell_type": "code",
   "execution_count": 42,
   "metadata": {},
   "outputs": [
    {
     "data": {
      "text/plain": [
       "(11090,)"
      ]
     },
     "execution_count": 42,
     "metadata": {},
     "output_type": "execute_result"
    }
   ],
   "source": [
    "df_c['Income'].dropna().shape"
   ]
  },
  {
   "cell_type": "code",
   "execution_count": 43,
   "metadata": {},
   "outputs": [
    {
     "data": {
      "text/plain": [
       "(16675,)"
      ]
     },
     "execution_count": 43,
     "metadata": {},
     "output_type": "execute_result"
    }
   ],
   "source": [
    "df_c['Income'].shape"
   ]
  },
  {
   "cell_type": "code",
   "execution_count": 44,
   "metadata": {
    "scrolled": true
   },
   "outputs": [
    {
     "data": {
      "text/html": [
       "<div>\n",
       "<style scoped>\n",
       "    .dataframe tbody tr th:only-of-type {\n",
       "        vertical-align: middle;\n",
       "    }\n",
       "\n",
       "    .dataframe tbody tr th {\n",
       "        vertical-align: top;\n",
       "    }\n",
       "\n",
       "    .dataframe thead th {\n",
       "        text-align: right;\n",
       "    }\n",
       "</style>\n",
       "<table border=\"1\" class=\"dataframe\">\n",
       "  <thead>\n",
       "    <tr style=\"text-align: right;\">\n",
       "      <th></th>\n",
       "      <th>Individual Key</th>\n",
       "      <th>Household Key</th>\n",
       "      <th>Income</th>\n",
       "    </tr>\n",
       "  </thead>\n",
       "  <tbody>\n",
       "    <tr>\n",
       "      <th>62881</th>\n",
       "      <td>2460125.0</td>\n",
       "      <td>4404559.0</td>\n",
       "      <td>20-29,999</td>\n",
       "    </tr>\n",
       "    <tr>\n",
       "      <th>62882</th>\n",
       "      <td>2460125.0</td>\n",
       "      <td>4404559.0</td>\n",
       "      <td>20-29,999</td>\n",
       "    </tr>\n",
       "    <tr>\n",
       "      <th>62883</th>\n",
       "      <td>2460125.0</td>\n",
       "      <td>4404559.0</td>\n",
       "      <td>20-29,999</td>\n",
       "    </tr>\n",
       "    <tr>\n",
       "      <th>62884</th>\n",
       "      <td>2460125.0</td>\n",
       "      <td>4404559.0</td>\n",
       "      <td>20-29,999</td>\n",
       "    </tr>\n",
       "    <tr>\n",
       "      <th>62885</th>\n",
       "      <td>2460125.0</td>\n",
       "      <td>4404559.0</td>\n",
       "      <td>20-29,999</td>\n",
       "    </tr>\n",
       "    <tr>\n",
       "      <th>62886</th>\n",
       "      <td>2460125.0</td>\n",
       "      <td>4404559.0</td>\n",
       "      <td>20-29,999</td>\n",
       "    </tr>\n",
       "    <tr>\n",
       "      <th>62887</th>\n",
       "      <td>2460125.0</td>\n",
       "      <td>4404559.0</td>\n",
       "      <td>20-29,999</td>\n",
       "    </tr>\n",
       "    <tr>\n",
       "      <th>62888</th>\n",
       "      <td>2460125.0</td>\n",
       "      <td>4404559.0</td>\n",
       "      <td>20-29,999</td>\n",
       "    </tr>\n",
       "    <tr>\n",
       "      <th>62899</th>\n",
       "      <td>2460127.0</td>\n",
       "      <td>4404559.0</td>\n",
       "      <td>Under 10K</td>\n",
       "    </tr>\n",
       "    <tr>\n",
       "      <th>62900</th>\n",
       "      <td>2460127.0</td>\n",
       "      <td>4404559.0</td>\n",
       "      <td>Under 10K</td>\n",
       "    </tr>\n",
       "    <tr>\n",
       "      <th>62901</th>\n",
       "      <td>2460127.0</td>\n",
       "      <td>4404559.0</td>\n",
       "      <td>Under 10K</td>\n",
       "    </tr>\n",
       "    <tr>\n",
       "      <th>62902</th>\n",
       "      <td>2460127.0</td>\n",
       "      <td>4404559.0</td>\n",
       "      <td>Under 10K</td>\n",
       "    </tr>\n",
       "    <tr>\n",
       "      <th>62903</th>\n",
       "      <td>2460127.0</td>\n",
       "      <td>4404559.0</td>\n",
       "      <td>Under 10K</td>\n",
       "    </tr>\n",
       "    <tr>\n",
       "      <th>62904</th>\n",
       "      <td>2460127.0</td>\n",
       "      <td>4404559.0</td>\n",
       "      <td>Under 10K</td>\n",
       "    </tr>\n",
       "    <tr>\n",
       "      <th>62905</th>\n",
       "      <td>2460127.0</td>\n",
       "      <td>4404559.0</td>\n",
       "      <td>Under 10K</td>\n",
       "    </tr>\n",
       "    <tr>\n",
       "      <th>62906</th>\n",
       "      <td>2460127.0</td>\n",
       "      <td>4404559.0</td>\n",
       "      <td>Under 10K</td>\n",
       "    </tr>\n",
       "    <tr>\n",
       "      <th>62907</th>\n",
       "      <td>2460127.0</td>\n",
       "      <td>4404559.0</td>\n",
       "      <td>Under 10K</td>\n",
       "    </tr>\n",
       "    <tr>\n",
       "      <th>62908</th>\n",
       "      <td>2460127.0</td>\n",
       "      <td>4404559.0</td>\n",
       "      <td>Under 10K</td>\n",
       "    </tr>\n",
       "    <tr>\n",
       "      <th>62909</th>\n",
       "      <td>2460127.0</td>\n",
       "      <td>4404559.0</td>\n",
       "      <td>Under 10K</td>\n",
       "    </tr>\n",
       "  </tbody>\n",
       "</table>\n",
       "</div>"
      ],
      "text/plain": [
       "       Individual Key  Household Key     Income\n",
       "62881       2460125.0      4404559.0  20-29,999\n",
       "62882       2460125.0      4404559.0  20-29,999\n",
       "62883       2460125.0      4404559.0  20-29,999\n",
       "62884       2460125.0      4404559.0  20-29,999\n",
       "62885       2460125.0      4404559.0  20-29,999\n",
       "62886       2460125.0      4404559.0  20-29,999\n",
       "62887       2460125.0      4404559.0  20-29,999\n",
       "62888       2460125.0      4404559.0  20-29,999\n",
       "62899       2460127.0      4404559.0  Under 10K\n",
       "62900       2460127.0      4404559.0  Under 10K\n",
       "62901       2460127.0      4404559.0  Under 10K\n",
       "62902       2460127.0      4404559.0  Under 10K\n",
       "62903       2460127.0      4404559.0  Under 10K\n",
       "62904       2460127.0      4404559.0  Under 10K\n",
       "62905       2460127.0      4404559.0  Under 10K\n",
       "62906       2460127.0      4404559.0  Under 10K\n",
       "62907       2460127.0      4404559.0  Under 10K\n",
       "62908       2460127.0      4404559.0  Under 10K\n",
       "62909       2460127.0      4404559.0  Under 10K"
      ]
     },
     "execution_count": 44,
     "metadata": {},
     "output_type": "execute_result"
    }
   ],
   "source": [
    "d1 = df_c[df_c['Household Key'] == 4404559.0]\n",
    "d1[['Individual Key', 'Household Key', 'Income']].dropna()"
   ]
  },
  {
   "cell_type": "code",
   "execution_count": 45,
   "metadata": {},
   "outputs": [],
   "source": [
    "# The income is for individual. Try to find out household income."
   ]
  },
  {
   "cell_type": "code",
   "execution_count": 46,
   "metadata": {},
   "outputs": [
    {
     "name": "stdout",
     "output_type": "stream",
     "text": [
      "<class 'pandas.core.frame.DataFrame'>\n",
      "Int64Index: 16675 entries, 1 to 99998\n",
      "Data columns (total 2 columns):\n",
      "Income       11090 non-null object\n",
      "Education    11152 non-null object\n",
      "dtypes: object(2)\n",
      "memory usage: 390.8+ KB\n"
     ]
    }
   ],
   "source": [
    "df_c[['Income', 'Education']].info()"
   ]
  },
  {
   "cell_type": "code",
   "execution_count": 47,
   "metadata": {},
   "outputs": [
    {
     "data": {
      "text/html": [
       "<div>\n",
       "<style scoped>\n",
       "    .dataframe tbody tr th:only-of-type {\n",
       "        vertical-align: middle;\n",
       "    }\n",
       "\n",
       "    .dataframe tbody tr th {\n",
       "        vertical-align: top;\n",
       "    }\n",
       "\n",
       "    .dataframe thead th {\n",
       "        text-align: right;\n",
       "    }\n",
       "</style>\n",
       "<table border=\"1\" class=\"dataframe\">\n",
       "  <thead>\n",
       "    <tr style=\"text-align: right;\">\n",
       "      <th></th>\n",
       "      <th>Income</th>\n",
       "      <th>Education</th>\n",
       "    </tr>\n",
       "  </thead>\n",
       "  <tbody>\n",
       "    <tr>\n",
       "      <th>1</th>\n",
       "      <td>30-39,999</td>\n",
       "      <td>Some College</td>\n",
       "    </tr>\n",
       "    <tr>\n",
       "      <th>2</th>\n",
       "      <td>30-39,999</td>\n",
       "      <td>Some College</td>\n",
       "    </tr>\n",
       "    <tr>\n",
       "      <th>3</th>\n",
       "      <td>30-39,999</td>\n",
       "      <td>Some College</td>\n",
       "    </tr>\n",
       "    <tr>\n",
       "      <th>4</th>\n",
       "      <td>30-39,999</td>\n",
       "      <td>Some College</td>\n",
       "    </tr>\n",
       "    <tr>\n",
       "      <th>5</th>\n",
       "      <td>30-39,999</td>\n",
       "      <td>Some College</td>\n",
       "    </tr>\n",
       "    <tr>\n",
       "      <th>...</th>\n",
       "      <td>...</td>\n",
       "      <td>...</td>\n",
       "    </tr>\n",
       "    <tr>\n",
       "      <th>99989</th>\n",
       "      <td>100-149,999</td>\n",
       "      <td>Some College</td>\n",
       "    </tr>\n",
       "    <tr>\n",
       "      <th>99992</th>\n",
       "      <td>100-149,999</td>\n",
       "      <td>Unknown</td>\n",
       "    </tr>\n",
       "    <tr>\n",
       "      <th>99996</th>\n",
       "      <td>90-99,999</td>\n",
       "      <td>High School</td>\n",
       "    </tr>\n",
       "    <tr>\n",
       "      <th>99997</th>\n",
       "      <td>90-99,999</td>\n",
       "      <td>High School</td>\n",
       "    </tr>\n",
       "    <tr>\n",
       "      <th>99998</th>\n",
       "      <td>90-99,999</td>\n",
       "      <td>High School</td>\n",
       "    </tr>\n",
       "  </tbody>\n",
       "</table>\n",
       "<p>11090 rows × 2 columns</p>\n",
       "</div>"
      ],
      "text/plain": [
       "            Income     Education\n",
       "1        30-39,999  Some College\n",
       "2        30-39,999  Some College\n",
       "3        30-39,999  Some College\n",
       "4        30-39,999  Some College\n",
       "5        30-39,999  Some College\n",
       "...            ...           ...\n",
       "99989  100-149,999  Some College\n",
       "99992  100-149,999       Unknown\n",
       "99996    90-99,999   High School\n",
       "99997    90-99,999   High School\n",
       "99998    90-99,999   High School\n",
       "\n",
       "[11090 rows x 2 columns]"
      ]
     },
     "execution_count": 47,
     "metadata": {},
     "output_type": "execute_result"
    }
   ],
   "source": [
    "df_c[['Income', 'Education']].dropna()"
   ]
  },
  {
   "cell_type": "code",
   "execution_count": 49,
   "metadata": {
    "scrolled": true
   },
   "outputs": [
    {
     "data": {
      "text/plain": [
       "NaN              5585\n",
       "100-149,999      2365\n",
       "90-99,999        2236\n",
       "70-79,999         938\n",
       "50-59,999         831\n",
       "40-49,999         715\n",
       "10-19,999         636\n",
       "175 - 199,999     565\n",
       "30-39,999         524\n",
       "60-69,999         503\n",
       "150 - 174,999     409\n",
       "200 - 249,999     387\n",
       "20-29,999         386\n",
       "250K+             367\n",
       "Under 10K         215\n",
       "80-89,999          13\n",
       "Name: Income, dtype: int64"
      ]
     },
     "execution_count": 49,
     "metadata": {},
     "output_type": "execute_result"
    }
   ],
   "source": [
    "df_c['Income'].value_counts(dropna=False)"
   ]
  },
  {
   "cell_type": "code",
   "execution_count": 50,
   "metadata": {},
   "outputs": [
    {
     "data": {
      "text/plain": [
       "NaN                  5523\n",
       "Unknown              3843\n",
       "Some College         2877\n",
       "High School          2719\n",
       "Completed College    1541\n",
       "Graduated School      172\n",
       "Name: Education, dtype: int64"
      ]
     },
     "execution_count": 50,
     "metadata": {},
     "output_type": "execute_result"
    }
   ],
   "source": [
    "df_c['Education'].value_counts(dropna=False)"
   ]
  },
  {
   "cell_type": "code",
   "execution_count": 51,
   "metadata": {
    "scrolled": true
   },
   "outputs": [],
   "source": [
    "d2 = df_c[df_c['Income'] == '100-149,999']\n",
    "d3 = df_c[['Income', 'Education']]\n",
    "#d3.groupby('Income').head(30)"
   ]
  },
  {
   "cell_type": "code",
   "execution_count": 52,
   "metadata": {},
   "outputs": [],
   "source": [
    "def income_brackets(x):\n",
    "    if x in ['Under 10K', '10-19,999', '20-29,999', '30-39,999', '40-49,999']:\n",
    "        return 1\n",
    "    elif x in ['50-59,999', '60-69,999', '70-79,999', '80-89,999', '90-99,999']:\n",
    "        return 2\n",
    "    elif x in ['100-149,999']:\n",
    "        return 3\n",
    "    elif x in ['150 - 174,999', '175 - 199,999']:\n",
    "        return 4\n",
    "    elif x in ['200 - 249,999']:\n",
    "        return 5\n",
    "    elif x in ['250K+']:\n",
    "        return 6\n",
    "    else:\n",
    "        return np.nan"
   ]
  },
  {
   "cell_type": "code",
   "execution_count": 53,
   "metadata": {},
   "outputs": [],
   "source": [
    "df_c['Income'] = df_c['Income'].apply(income_brackets)"
   ]
  },
  {
   "cell_type": "code",
   "execution_count": 54,
   "metadata": {},
   "outputs": [],
   "source": [
    "#df_c['income2'] = df['Income']\n",
    "#df_c[['Household Key', 'Income', 'income2']].head(50)\n",
    "# works fine"
   ]
  },
  {
   "cell_type": "code",
   "execution_count": 55,
   "metadata": {},
   "outputs": [],
   "source": [
    "def education_brackets(x):\n",
    "    if x == 'High School':\n",
    "        return 1\n",
    "    elif x == 'Some College':\n",
    "        return 2\n",
    "    elif x == 'Completed College':\n",
    "        return 3\n",
    "    elif x == 'Graduated School':\n",
    "        return 4\n",
    "    else:\n",
    "        return np.nan"
   ]
  },
  {
   "cell_type": "code",
   "execution_count": 56,
   "metadata": {},
   "outputs": [],
   "source": [
    "df_c['Education'] = df_c['Education'].apply(education_brackets)"
   ]
  },
  {
   "cell_type": "code",
   "execution_count": 57,
   "metadata": {},
   "outputs": [],
   "source": [
    "#df_c['Education2'] = df['Education']\n",
    "#df_c[['Household Key', 'Education', 'Education2']].head(200)\n",
    "#df_c['Education'].value_counts()\n",
    "# works fine."
   ]
  },
  {
   "cell_type": "code",
   "execution_count": 59,
   "metadata": {},
   "outputs": [
    {
     "data": {
      "text/plain": [
       "NaN           5523\n",
       "750-799       3753\n",
       "700-749       2348\n",
       "650-699       1786\n",
       "800+          1695\n",
       "600-649        840\n",
       "Unknown        381\n",
       "550-599        186\n",
       "500-549        153\n",
       "499 & Less      10\n",
       "Name: Credit Ranges, dtype: int64"
      ]
     },
     "execution_count": 59,
     "metadata": {},
     "output_type": "execute_result"
    }
   ],
   "source": [
    "df_c['Credit Ranges'].value_counts(dropna=False)"
   ]
  },
  {
   "cell_type": "code",
   "execution_count": 60,
   "metadata": {},
   "outputs": [],
   "source": [
    "def credit_brackets(x):\n",
    "    if x in ['499 & Less', '500-549']:\n",
    "        return 1\n",
    "    elif x in ['550-599', '600-649']:\n",
    "        return 2\n",
    "    elif x in ['650-699', '700-749']:\n",
    "        return 3\n",
    "    elif x in ['750-799', '800+']:\n",
    "        return 4\n",
    "    else:\n",
    "        return np.nan"
   ]
  },
  {
   "cell_type": "code",
   "execution_count": 61,
   "metadata": {},
   "outputs": [],
   "source": [
    "df_c['Credit Ranges'] = df_c['Credit Ranges'].apply(credit_brackets)"
   ]
  },
  {
   "cell_type": "code",
   "execution_count": 62,
   "metadata": {},
   "outputs": [],
   "source": [
    "#df_c['Credit Ranges2'] = df['Credit Ranges']\n",
    "#df_c[['Household Key', 'Credit Ranges', 'Credit Ranges2']].head(600)\n",
    "#df_c['Credit Ranges'].value_counts()\n",
    "# works fine."
   ]
  },
  {
   "cell_type": "code",
   "execution_count": null,
   "metadata": {},
   "outputs": [],
   "source": [
    "#df['Date Of Birth'].value_counts(dropna=False)        ===> 11153 NAN\n",
    "#df['Birth Date MMDDYYYY'].value_counts(dropna=False)  ===> 3250 NAN\n",
    "# second database is more complete. So I have to replace it."
   ]
  },
  {
   "cell_type": "code",
   "execution_count": 63,
   "metadata": {},
   "outputs": [
    {
     "data": {
      "text/plain": [
       "NaN      7117\n",
       "73.0      516\n",
       "71.0      362\n",
       "74.0      358\n",
       "72.0      347\n",
       "         ... \n",
       "24.0       17\n",
       "26.0       17\n",
       "100.0      14\n",
       "23.0       11\n",
       "22.0        4\n",
       "Name: Age, Length: 80, dtype: int64"
      ]
     },
     "execution_count": 63,
     "metadata": {},
     "output_type": "execute_result"
    }
   ],
   "source": [
    "#df_c['Age'] = 2020 - pd.to_datetime(df['Date Of Birth']).dt.year\n",
    "#df_c['Age'].value_counts(dropna=False)"
   ]
  },
  {
   "cell_type": "code",
   "execution_count": 110,
   "metadata": {},
   "outputs": [
    {
     "data": {
      "text/plain": [
       "73.0     638\n",
       "NaN      595\n",
       "71.0     546\n",
       "74.0     543\n",
       "72.0     492\n",
       "        ... \n",
       "23.0      11\n",
       "22.0       6\n",
       "105.0      1\n",
       "18.0       1\n",
       "110.0      1\n",
       "Name: Age, Length: 88, dtype: int64"
      ]
     },
     "execution_count": 110,
     "metadata": {},
     "output_type": "execute_result"
    }
   ],
   "source": [
    "df_c['Age'] = 2020 - pd.to_datetime(df['Birth Date MMDDYYYY']).dt.year\n",
    "df_c['Age'].value_counts(dropna=False)"
   ]
  },
  {
   "cell_type": "code",
   "execution_count": 111,
   "metadata": {},
   "outputs": [
    {
     "data": {
      "text/plain": [
       "count    16080.000000\n",
       "mean        69.799440\n",
       "std         18.013515\n",
       "min         18.000000\n",
       "25%         62.000000\n",
       "50%         73.000000\n",
       "75%         83.000000\n",
       "max        110.000000\n",
       "Name: Age, dtype: float64"
      ]
     },
     "execution_count": 111,
     "metadata": {},
     "output_type": "execute_result"
    }
   ],
   "source": [
    "df_c['Age'].describe()\n",
    "# Age works fine"
   ]
  },
  {
   "cell_type": "code",
   "execution_count": 65,
   "metadata": {},
   "outputs": [],
   "source": [
    "def child_converter(x): return num_child_dict[x]\n",
    "num_child_dict = {'No children':0,\n",
    "                 'One Child':1,\n",
    "                 'Two Children':2,\n",
    "                 'Three Children':3,\n",
    "                 'Four Children':4,\n",
    "                 'Five Children':5,\n",
    "                 'Six Children':6,\n",
    "                 np.nan:np.nan}"
   ]
  },
  {
   "cell_type": "code",
   "execution_count": 66,
   "metadata": {},
   "outputs": [],
   "source": [
    "df_c['Number of Children'] = df_c['Number of Children'].apply(child_converter)"
   ]
  },
  {
   "cell_type": "code",
   "execution_count": 67,
   "metadata": {},
   "outputs": [],
   "source": [
    "#df_c['Number of Children'].value_counts(dropna=False)\n",
    "#df['Number of Children'].value_counts(dropna=False)\n",
    "# Number of children works fine"
   ]
  },
  {
   "cell_type": "code",
   "execution_count": 68,
   "metadata": {},
   "outputs": [],
   "source": [
    "def y_n_to_binary(x):\n",
    "    if x == 'Y':\n",
    "        return 1\n",
    "    elif x == 'N':\n",
    "        return 0\n",
    "    else:\n",
    "        return np.nan"
   ]
  },
  {
   "cell_type": "code",
   "execution_count": 69,
   "metadata": {},
   "outputs": [],
   "source": [
    "fsvs = [col for col in df_c.columns if col.startswith('FSV')]\n",
    "#df_c[fsvs]"
   ]
  },
  {
   "cell_type": "code",
   "execution_count": 70,
   "metadata": {},
   "outputs": [
    {
     "data": {
      "text/plain": [
       "N    15793\n",
       "Y      882\n",
       "Name: FSV CMSI Flag, dtype: int64"
      ]
     },
     "execution_count": 70,
     "metadata": {},
     "output_type": "execute_result"
    }
   ],
   "source": [
    "df_c['FSV CMSI Flag'].value_counts(dropna=False)"
   ]
  },
  {
   "cell_type": "code",
   "execution_count": 71,
   "metadata": {},
   "outputs": [
    {
     "data": {
      "text/plain": [
       "N    15447\n",
       "Y     1228\n",
       "Name: FSV Credit Card Flag, dtype: int64"
      ]
     },
     "execution_count": 71,
     "metadata": {},
     "output_type": "execute_result"
    }
   ],
   "source": [
    "df_c['FSV Credit Card Flag'].value_counts(dropna=False)"
   ]
  },
  {
   "cell_type": "code",
   "execution_count": 72,
   "metadata": {},
   "outputs": [
    {
     "data": {
      "text/plain": [
       "N    16629\n",
       "Y       46\n",
       "Name: FSV Deposit Program Flag, dtype: int64"
      ]
     },
     "execution_count": 72,
     "metadata": {},
     "output_type": "execute_result"
    }
   ],
   "source": [
    "df_c['FSV Deposit Program Flag'].value_counts(dropna=False)"
   ]
  },
  {
   "cell_type": "code",
   "execution_count": 73,
   "metadata": {},
   "outputs": [
    {
     "data": {
      "text/plain": [
       "N    16668\n",
       "Y        7\n",
       "Name: FSV Home Equity Flag, dtype: int64"
      ]
     },
     "execution_count": 73,
     "metadata": {},
     "output_type": "execute_result"
    }
   ],
   "source": [
    "df_c['FSV Home Equity Flag'].value_counts(dropna=False)"
   ]
  },
  {
   "cell_type": "code",
   "execution_count": 74,
   "metadata": {},
   "outputs": [
    {
     "data": {
      "text/plain": [
       "N    16191\n",
       "Y      484\n",
       "Name: FSV ID Theft Flag, dtype: int64"
      ]
     },
     "execution_count": 74,
     "metadata": {},
     "output_type": "execute_result"
    }
   ],
   "source": [
    "df_c['FSV ID Theft Flag'].value_counts(dropna=False)"
   ]
  },
  {
   "cell_type": "code",
   "execution_count": 75,
   "metadata": {},
   "outputs": [
    {
     "data": {
      "text/plain": [
       "N    16649\n",
       "Y       26\n",
       "Name: FSV Mortgage Flag, dtype: int64"
      ]
     },
     "execution_count": 75,
     "metadata": {},
     "output_type": "execute_result"
    }
   ],
   "source": [
    "df_c['FSV Mortgage Flag'].value_counts(dropna=False)"
   ]
  },
  {
   "cell_type": "code",
   "execution_count": 76,
   "metadata": {},
   "outputs": [],
   "source": [
    "for col in fsvs:\n",
    "        df_c[col] = df_c[col].apply(y_n_to_binary)"
   ]
  },
  {
   "cell_type": "code",
   "execution_count": 77,
   "metadata": {},
   "outputs": [],
   "source": [
    "# df_c[fsvs]\n",
    "# FSV works fine"
   ]
  },
  {
   "cell_type": "code",
   "execution_count": 78,
   "metadata": {},
   "outputs": [
    {
     "data": {
      "text/plain": [
       "Home Owner             10323\n",
       "NaN                     5879\n",
       "Renter                   458\n",
       "Probable Renter           10\n",
       "Probable Home Owner        5\n",
       "Name: Home Owner, dtype: int64"
      ]
     },
     "execution_count": 78,
     "metadata": {},
     "output_type": "execute_result"
    }
   ],
   "source": [
    "df_c['Home Owner'].value_counts(dropna=False)"
   ]
  },
  {
   "cell_type": "code",
   "execution_count": 79,
   "metadata": {},
   "outputs": [],
   "source": [
    "def home_owners(x):\n",
    "    if x in ['Home Owner']:\n",
    "        return 1\n",
    "    elif x in ['Renter', 'Probable Renter', 'Probable Home Owner']:\n",
    "        return 0\n",
    "    else:\n",
    "        return np.nan"
   ]
  },
  {
   "cell_type": "code",
   "execution_count": 80,
   "metadata": {},
   "outputs": [],
   "source": [
    "df_c['Home Owner'] = df_c['Home Owner'].apply(home_owners)"
   ]
  },
  {
   "cell_type": "code",
   "execution_count": 81,
   "metadata": {},
   "outputs": [],
   "source": [
    "#df_c['Home Owner'].value_counts(dropna=False)\n",
    "# Home owners work fine."
   ]
  },
  {
   "cell_type": "code",
   "execution_count": null,
   "metadata": {},
   "outputs": [],
   "source": []
  },
  {
   "cell_type": "code",
   "execution_count": 82,
   "metadata": {},
   "outputs": [
    {
     "data": {
      "text/plain": [
       "53.00     5870\n",
       "NaN       3065\n",
       "58.85     1528\n",
       "30.00     1039\n",
       "0.00       572\n",
       "          ... \n",
       "36.25        1\n",
       "168.00       1\n",
       "105.50       1\n",
       "40.25        1\n",
       "54.44        1\n",
       "Name: Total Cost, Length: 331, dtype: int64"
      ]
     },
     "execution_count": 82,
     "metadata": {},
     "output_type": "execute_result"
    }
   ],
   "source": [
    "df_c['Total Cost'].value_counts(dropna=False)"
   ]
  },
  {
   "cell_type": "code",
   "execution_count": 83,
   "metadata": {},
   "outputs": [
    {
     "data": {
      "text/plain": [
       "English       10198\n",
       "NaN            5523\n",
       "Unknown         642\n",
       "Italian          93\n",
       "Spanish          88\n",
       "Portuguese       49\n",
       "Hebrew           17\n",
       "Arabic           12\n",
       "French           12\n",
       "German           10\n",
       "Hindu             9\n",
       "Polish            8\n",
       "Greek             5\n",
       "Chinese           2\n",
       "Russian           2\n",
       "Korean            2\n",
       "Japanese          2\n",
       "Vietnamese        1\n",
       "Name: Language, dtype: int64"
      ]
     },
     "execution_count": 83,
     "metadata": {},
     "output_type": "execute_result"
    }
   ],
   "source": [
    "df_c['Language'].value_counts(dropna=False)"
   ]
  },
  {
   "cell_type": "code",
   "execution_count": 84,
   "metadata": {},
   "outputs": [],
   "source": [
    "#df_c['Occupation Code'].value_counts(dropna=False)\n",
    "# not enough data"
   ]
  },
  {
   "cell_type": "code",
   "execution_count": 86,
   "metadata": {},
   "outputs": [
    {
     "data": {
      "text/plain": [
       "1    2.0\n",
       "2    2.0\n",
       "3    2.0\n",
       "4    2.0\n",
       "5    2.0\n",
       "Name: ERS ENT Count for 3 Years, dtype: float64"
      ]
     },
     "execution_count": 86,
     "metadata": {},
     "output_type": "execute_result"
    }
   ],
   "source": [
    "df_c['ERS ENT Count for 3 Years'] = df_c['ERS ENT Count Year 1'] + df_c['ERS ENT Count Year 2'] + df_c['ERS ENT Count Year 3']\n",
    "df_c['ERS ENT Count for 3 Years'].head()"
   ]
  },
  {
   "cell_type": "code",
   "execution_count": 87,
   "metadata": {},
   "outputs": [
    {
     "data": {
      "text/plain": [
       "1    65.0\n",
       "2    65.0\n",
       "3    65.0\n",
       "4    65.0\n",
       "5    65.0\n",
       "Name: ERS Member Cost for 3 Years, dtype: float64"
      ]
     },
     "execution_count": 87,
     "metadata": {},
     "output_type": "execute_result"
    }
   ],
   "source": [
    "df_c['ERS Member Cost for 3 Years'] = df_c['ERS Member Cost Year 1'] + df_c['ERS Member Cost Year 2'] + df_c['ERS Member Cost Year 3']\n",
    "df_c['ERS Member Cost for 3 Years'].head()"
   ]
  },
  {
   "cell_type": "code",
   "execution_count": 88,
   "metadata": {},
   "outputs": [
    {
     "data": {
      "text/plain": [
       "N    13246\n",
       "Y     3429\n",
       "Name: INS Client Flag, dtype: int64"
      ]
     },
     "execution_count": 88,
     "metadata": {},
     "output_type": "execute_result"
    }
   ],
   "source": [
    "df_c['INS Client Flag'].value_counts(dropna=False)"
   ]
  },
  {
   "cell_type": "code",
   "execution_count": 89,
   "metadata": {},
   "outputs": [
    {
     "data": {
      "text/plain": [
       "N    19390\n",
       "Y     1954\n",
       "Name: TRV Globalware Flag, dtype: int64"
      ]
     },
     "execution_count": 89,
     "metadata": {},
     "output_type": "execute_result"
    }
   ],
   "source": [
    "df['TRV Globalware Flag'].value_counts(dropna=False)"
   ]
  },
  {
   "cell_type": "code",
   "execution_count": 91,
   "metadata": {},
   "outputs": [],
   "source": [
    "df_c['INS Client Flag'] = df_c['INS Client Flag'].apply(y_n_to_binary)"
   ]
  },
  {
   "cell_type": "code",
   "execution_count": 92,
   "metadata": {},
   "outputs": [],
   "source": [
    "df_c['TRV Globalware Flag'] = df_c['TRV Globalware Flag'].apply(y_n_to_binary)"
   ]
  },
  {
   "cell_type": "code",
   "execution_count": 96,
   "metadata": {},
   "outputs": [
    {
     "data": {
      "text/plain": [
       "0    14813\n",
       "1     1862\n",
       "Name: TRV Globalware Flag, dtype: int64"
      ]
     },
     "execution_count": 96,
     "metadata": {},
     "output_type": "execute_result"
    }
   ],
   "source": [
    "df_c['INS Client Flag'].value_counts()\n",
    "df_c['TRV Globalware Flag'].value_counts()\n",
    "# both products have converted into binary"
   ]
  },
  {
   "cell_type": "code",
   "execution_count": null,
   "metadata": {},
   "outputs": [],
   "source": []
  },
  {
   "cell_type": "code",
   "execution_count": null,
   "metadata": {},
   "outputs": [],
   "source": []
  },
  {
   "cell_type": "code",
   "execution_count": 101,
   "metadata": {},
   "outputs": [],
   "source": [
    "features = ['Household Key', 'Income', 'Education', 'Credit Ranges', 'Number of Children', 'Age',\n",
    "            'Home Owner', 'Total Cost', 'ERS ENT Count for 3 Years', 'ERS Member Cost for 3 Years',\n",
    "            'FSV CMSI Flag', 'FSV Credit Card Flag', 'FSV Deposit Program Flag',\n",
    "            'FSV Home Equity Flag', 'FSV ID Theft Flag', 'FSV Mortgage Flag',\n",
    "            'INS Client Flag', 'TRV Globalware Flag']"
   ]
  },
  {
   "cell_type": "code",
   "execution_count": 112,
   "metadata": {},
   "outputs": [
    {
     "data": {
      "text/html": [
       "<div>\n",
       "<style scoped>\n",
       "    .dataframe tbody tr th:only-of-type {\n",
       "        vertical-align: middle;\n",
       "    }\n",
       "\n",
       "    .dataframe tbody tr th {\n",
       "        vertical-align: top;\n",
       "    }\n",
       "\n",
       "    .dataframe thead th {\n",
       "        text-align: right;\n",
       "    }\n",
       "</style>\n",
       "<table border=\"1\" class=\"dataframe\">\n",
       "  <thead>\n",
       "    <tr style=\"text-align: right;\">\n",
       "      <th></th>\n",
       "      <th>Household Key</th>\n",
       "      <th>Income</th>\n",
       "      <th>Education</th>\n",
       "      <th>Credit Ranges</th>\n",
       "      <th>Number of Children</th>\n",
       "      <th>Age</th>\n",
       "      <th>Home Owner</th>\n",
       "      <th>Total Cost</th>\n",
       "      <th>ERS ENT Count for 3 Years</th>\n",
       "      <th>ERS Member Cost for 3 Years</th>\n",
       "      <th>FSV CMSI Flag</th>\n",
       "      <th>FSV Credit Card Flag</th>\n",
       "      <th>FSV Deposit Program Flag</th>\n",
       "      <th>FSV Home Equity Flag</th>\n",
       "      <th>FSV ID Theft Flag</th>\n",
       "      <th>FSV Mortgage Flag</th>\n",
       "      <th>INS Client Flag</th>\n",
       "      <th>TRV Globalware Flag</th>\n",
       "    </tr>\n",
       "  </thead>\n",
       "  <tbody>\n",
       "    <tr>\n",
       "      <th>1</th>\n",
       "      <td>4500791.0</td>\n",
       "      <td>1.0</td>\n",
       "      <td>2.0</td>\n",
       "      <td>2.0</td>\n",
       "      <td>1.0</td>\n",
       "      <td>98.0</td>\n",
       "      <td>1.0</td>\n",
       "      <td>32.5</td>\n",
       "      <td>2.0</td>\n",
       "      <td>65.0</td>\n",
       "      <td>0</td>\n",
       "      <td>1</td>\n",
       "      <td>0</td>\n",
       "      <td>0</td>\n",
       "      <td>0</td>\n",
       "      <td>0</td>\n",
       "      <td>0</td>\n",
       "      <td>0</td>\n",
       "    </tr>\n",
       "    <tr>\n",
       "      <th>2</th>\n",
       "      <td>4500791.0</td>\n",
       "      <td>1.0</td>\n",
       "      <td>2.0</td>\n",
       "      <td>2.0</td>\n",
       "      <td>1.0</td>\n",
       "      <td>98.0</td>\n",
       "      <td>1.0</td>\n",
       "      <td>30.0</td>\n",
       "      <td>2.0</td>\n",
       "      <td>65.0</td>\n",
       "      <td>0</td>\n",
       "      <td>1</td>\n",
       "      <td>0</td>\n",
       "      <td>0</td>\n",
       "      <td>0</td>\n",
       "      <td>0</td>\n",
       "      <td>0</td>\n",
       "      <td>0</td>\n",
       "    </tr>\n",
       "    <tr>\n",
       "      <th>3</th>\n",
       "      <td>4500791.0</td>\n",
       "      <td>1.0</td>\n",
       "      <td>2.0</td>\n",
       "      <td>2.0</td>\n",
       "      <td>1.0</td>\n",
       "      <td>98.0</td>\n",
       "      <td>1.0</td>\n",
       "      <td>32.5</td>\n",
       "      <td>2.0</td>\n",
       "      <td>65.0</td>\n",
       "      <td>0</td>\n",
       "      <td>1</td>\n",
       "      <td>0</td>\n",
       "      <td>0</td>\n",
       "      <td>0</td>\n",
       "      <td>0</td>\n",
       "      <td>0</td>\n",
       "      <td>0</td>\n",
       "    </tr>\n",
       "    <tr>\n",
       "      <th>4</th>\n",
       "      <td>4500791.0</td>\n",
       "      <td>1.0</td>\n",
       "      <td>2.0</td>\n",
       "      <td>2.0</td>\n",
       "      <td>1.0</td>\n",
       "      <td>98.0</td>\n",
       "      <td>1.0</td>\n",
       "      <td>30.0</td>\n",
       "      <td>2.0</td>\n",
       "      <td>65.0</td>\n",
       "      <td>0</td>\n",
       "      <td>1</td>\n",
       "      <td>0</td>\n",
       "      <td>0</td>\n",
       "      <td>0</td>\n",
       "      <td>0</td>\n",
       "      <td>0</td>\n",
       "      <td>0</td>\n",
       "    </tr>\n",
       "    <tr>\n",
       "      <th>5</th>\n",
       "      <td>4500791.0</td>\n",
       "      <td>1.0</td>\n",
       "      <td>2.0</td>\n",
       "      <td>2.0</td>\n",
       "      <td>1.0</td>\n",
       "      <td>98.0</td>\n",
       "      <td>1.0</td>\n",
       "      <td>53.0</td>\n",
       "      <td>2.0</td>\n",
       "      <td>65.0</td>\n",
       "      <td>0</td>\n",
       "      <td>1</td>\n",
       "      <td>0</td>\n",
       "      <td>0</td>\n",
       "      <td>0</td>\n",
       "      <td>0</td>\n",
       "      <td>0</td>\n",
       "      <td>0</td>\n",
       "    </tr>\n",
       "  </tbody>\n",
       "</table>\n",
       "</div>"
      ],
      "text/plain": [
       "   Household Key  Income  Education  Credit Ranges  Number of Children   Age  \\\n",
       "1      4500791.0     1.0        2.0            2.0                 1.0  98.0   \n",
       "2      4500791.0     1.0        2.0            2.0                 1.0  98.0   \n",
       "3      4500791.0     1.0        2.0            2.0                 1.0  98.0   \n",
       "4      4500791.0     1.0        2.0            2.0                 1.0  98.0   \n",
       "5      4500791.0     1.0        2.0            2.0                 1.0  98.0   \n",
       "\n",
       "   Home Owner  Total Cost  ERS ENT Count for 3 Years  \\\n",
       "1         1.0        32.5                        2.0   \n",
       "2         1.0        30.0                        2.0   \n",
       "3         1.0        32.5                        2.0   \n",
       "4         1.0        30.0                        2.0   \n",
       "5         1.0        53.0                        2.0   \n",
       "\n",
       "   ERS Member Cost for 3 Years  FSV CMSI Flag  FSV Credit Card Flag  \\\n",
       "1                         65.0              0                     1   \n",
       "2                         65.0              0                     1   \n",
       "3                         65.0              0                     1   \n",
       "4                         65.0              0                     1   \n",
       "5                         65.0              0                     1   \n",
       "\n",
       "   FSV Deposit Program Flag  FSV Home Equity Flag  FSV ID Theft Flag  \\\n",
       "1                         0                     0                  0   \n",
       "2                         0                     0                  0   \n",
       "3                         0                     0                  0   \n",
       "4                         0                     0                  0   \n",
       "5                         0                     0                  0   \n",
       "\n",
       "   FSV Mortgage Flag  INS Client Flag  TRV Globalware Flag  \n",
       "1                  0                0                    0  \n",
       "2                  0                0                    0  \n",
       "3                  0                0                    0  \n",
       "4                  0                0                    0  \n",
       "5                  0                0                    0  "
      ]
     },
     "execution_count": 112,
     "metadata": {},
     "output_type": "execute_result"
    }
   ],
   "source": [
    "df_f = df_c[features]\n",
    "df_f.head()"
   ]
  },
  {
   "cell_type": "code",
   "execution_count": 113,
   "metadata": {},
   "outputs": [
    {
     "name": "stdout",
     "output_type": "stream",
     "text": [
      "<class 'pandas.core.frame.DataFrame'>\n",
      "Int64Index: 16675 entries, 1 to 99998\n",
      "Data columns (total 18 columns):\n",
      "Household Key                  16675 non-null float64\n",
      "Income                         11090 non-null float64\n",
      "Education                      7309 non-null float64\n",
      "Credit Ranges                  10771 non-null float64\n",
      "Number of Children             11152 non-null float64\n",
      "Age                            16080 non-null float64\n",
      "Home Owner                     10796 non-null float64\n",
      "Total Cost                     13610 non-null float64\n",
      "ERS ENT Count for 3 Years      16675 non-null float64\n",
      "ERS Member Cost for 3 Years    16675 non-null float64\n",
      "FSV CMSI Flag                  16675 non-null int64\n",
      "FSV Credit Card Flag           16675 non-null int64\n",
      "FSV Deposit Program Flag       16675 non-null int64\n",
      "FSV Home Equity Flag           16675 non-null int64\n",
      "FSV ID Theft Flag              16675 non-null int64\n",
      "FSV Mortgage Flag              16675 non-null int64\n",
      "INS Client Flag                16675 non-null int64\n",
      "TRV Globalware Flag            16675 non-null int64\n",
      "dtypes: float64(10), int64(8)\n",
      "memory usage: 2.4 MB\n"
     ]
    }
   ],
   "source": [
    "df_f.info()"
   ]
  },
  {
   "cell_type": "code",
   "execution_count": 114,
   "metadata": {},
   "outputs": [
    {
     "data": {
      "text/plain": [
       "Household Key                     0\n",
       "Income                         5585\n",
       "Education                      9366\n",
       "Credit Ranges                  5904\n",
       "Number of Children             5523\n",
       "Age                             595\n",
       "Home Owner                     5879\n",
       "Total Cost                     3065\n",
       "ERS ENT Count for 3 Years         0\n",
       "ERS Member Cost for 3 Years       0\n",
       "FSV CMSI Flag                     0\n",
       "FSV Credit Card Flag              0\n",
       "FSV Deposit Program Flag          0\n",
       "FSV Home Equity Flag              0\n",
       "FSV ID Theft Flag                 0\n",
       "FSV Mortgage Flag                 0\n",
       "INS Client Flag                   0\n",
       "TRV Globalware Flag               0\n",
       "dtype: int64"
      ]
     },
     "execution_count": 114,
     "metadata": {},
     "output_type": "execute_result"
    }
   ],
   "source": [
    "df_f.isna().sum()\n",
    "# the same as df_f.isnull().sum()"
   ]
  },
  {
   "cell_type": "code",
   "execution_count": 115,
   "metadata": {},
   "outputs": [
    {
     "data": {
      "text/plain": [
       "<matplotlib.axes._subplots.AxesSubplot at 0x21b79371648>"
      ]
     },
     "execution_count": 115,
     "metadata": {},
     "output_type": "execute_result"
    },
    {
     "data": {
      "image/png": "[encoded data removed]",
      "text/plain": [
       "<Figure size 1440x576 with 1 Axes>"
      ]
     },
     "metadata": {},
     "output_type": "display_data"
    }
   ],
   "source": [
    "df_f.isna().sum().plot(kind='bar', figsize = (20,8))"
   ]
  },
  {
   "cell_type": "code",
   "execution_count": null,
   "metadata": {},
   "outputs": [],
   "source": [
    "# out of 16675 data points\n",
    "# "
   ]
  },
  {
   "cell_type": "code",
   "execution_count": 117,
   "metadata": {},
   "outputs": [],
   "source": [
    "df_csv = df_f[df_c['Member Status'] == 'CANCELLED']\n",
    "df_csv.to_csv('cancelled_members.csv')"
   ]
  },
  {
   "cell_type": "code",
   "execution_count": null,
   "metadata": {},
   "outputs": [],
   "source": []
  },
  {
   "cell_type": "code",
   "execution_count": 120,
   "metadata": {},
   "outputs": [],
   "source": [
    "imputer = KNNImputer(n_neighbors=4)"
   ]
  },
  {
   "cell_type": "code",
   "execution_count": 129,
   "metadata": {},
   "outputs": [],
   "source": [
    "df_imput = pd.DataFrame(imputer.fit_transform(df_f))"
   ]
  },
  {
   "cell_type": "code",
   "execution_count": 127,
   "metadata": {},
   "outputs": [
    {
     "data": {
      "text/html": [
       "<div>\n",
       "<style scoped>\n",
       "    .dataframe tbody tr th:only-of-type {\n",
       "        vertical-align: middle;\n",
       "    }\n",
       "\n",
       "    .dataframe tbody tr th {\n",
       "        vertical-align: top;\n",
       "    }\n",
       "\n",
       "    .dataframe thead th {\n",
       "        text-align: right;\n",
       "    }\n",
       "</style>\n",
       "<table border=\"1\" class=\"dataframe\">\n",
       "  <thead>\n",
       "    <tr style=\"text-align: right;\">\n",
       "      <th></th>\n",
       "      <th>0</th>\n",
       "      <th>1</th>\n",
       "      <th>2</th>\n",
       "      <th>3</th>\n",
       "      <th>4</th>\n",
       "      <th>5</th>\n",
       "      <th>6</th>\n",
       "      <th>7</th>\n",
       "      <th>8</th>\n",
       "      <th>9</th>\n",
       "      <th>10</th>\n",
       "      <th>11</th>\n",
       "      <th>12</th>\n",
       "      <th>13</th>\n",
       "      <th>14</th>\n",
       "      <th>15</th>\n",
       "      <th>16</th>\n",
       "      <th>17</th>\n",
       "    </tr>\n",
       "  </thead>\n",
       "  <tbody>\n",
       "    <tr>\n",
       "      <th>0</th>\n",
       "      <td>4500791.0</td>\n",
       "      <td>1.00</td>\n",
       "      <td>2.00</td>\n",
       "      <td>2.00</td>\n",
       "      <td>1.00</td>\n",
       "      <td>98.0</td>\n",
       "      <td>1.0</td>\n",
       "      <td>32.5000</td>\n",
       "      <td>2.0</td>\n",
       "      <td>65.00</td>\n",
       "      <td>0.0</td>\n",
       "      <td>1.0</td>\n",
       "      <td>0.0</td>\n",
       "      <td>0.0</td>\n",
       "      <td>0.0</td>\n",
       "      <td>0.0</td>\n",
       "      <td>0.0</td>\n",
       "      <td>0.0</td>\n",
       "    </tr>\n",
       "    <tr>\n",
       "      <th>1</th>\n",
       "      <td>4500791.0</td>\n",
       "      <td>1.00</td>\n",
       "      <td>2.00</td>\n",
       "      <td>2.00</td>\n",
       "      <td>1.00</td>\n",
       "      <td>98.0</td>\n",
       "      <td>1.0</td>\n",
       "      <td>30.0000</td>\n",
       "      <td>2.0</td>\n",
       "      <td>65.00</td>\n",
       "      <td>0.0</td>\n",
       "      <td>1.0</td>\n",
       "      <td>0.0</td>\n",
       "      <td>0.0</td>\n",
       "      <td>0.0</td>\n",
       "      <td>0.0</td>\n",
       "      <td>0.0</td>\n",
       "      <td>0.0</td>\n",
       "    </tr>\n",
       "    <tr>\n",
       "      <th>2</th>\n",
       "      <td>4500791.0</td>\n",
       "      <td>1.00</td>\n",
       "      <td>2.00</td>\n",
       "      <td>2.00</td>\n",
       "      <td>1.00</td>\n",
       "      <td>98.0</td>\n",
       "      <td>1.0</td>\n",
       "      <td>32.5000</td>\n",
       "      <td>2.0</td>\n",
       "      <td>65.00</td>\n",
       "      <td>0.0</td>\n",
       "      <td>1.0</td>\n",
       "      <td>0.0</td>\n",
       "      <td>0.0</td>\n",
       "      <td>0.0</td>\n",
       "      <td>0.0</td>\n",
       "      <td>0.0</td>\n",
       "      <td>0.0</td>\n",
       "    </tr>\n",
       "    <tr>\n",
       "      <th>3</th>\n",
       "      <td>4500791.0</td>\n",
       "      <td>1.00</td>\n",
       "      <td>2.00</td>\n",
       "      <td>2.00</td>\n",
       "      <td>1.00</td>\n",
       "      <td>98.0</td>\n",
       "      <td>1.0</td>\n",
       "      <td>30.0000</td>\n",
       "      <td>2.0</td>\n",
       "      <td>65.00</td>\n",
       "      <td>0.0</td>\n",
       "      <td>1.0</td>\n",
       "      <td>0.0</td>\n",
       "      <td>0.0</td>\n",
       "      <td>0.0</td>\n",
       "      <td>0.0</td>\n",
       "      <td>0.0</td>\n",
       "      <td>0.0</td>\n",
       "    </tr>\n",
       "    <tr>\n",
       "      <th>4</th>\n",
       "      <td>4500791.0</td>\n",
       "      <td>1.00</td>\n",
       "      <td>2.00</td>\n",
       "      <td>2.00</td>\n",
       "      <td>1.00</td>\n",
       "      <td>98.0</td>\n",
       "      <td>1.0</td>\n",
       "      <td>53.0000</td>\n",
       "      <td>2.0</td>\n",
       "      <td>65.00</td>\n",
       "      <td>0.0</td>\n",
       "      <td>1.0</td>\n",
       "      <td>0.0</td>\n",
       "      <td>0.0</td>\n",
       "      <td>0.0</td>\n",
       "      <td>0.0</td>\n",
       "      <td>0.0</td>\n",
       "      <td>0.0</td>\n",
       "    </tr>\n",
       "    <tr>\n",
       "      <th>5</th>\n",
       "      <td>4500791.0</td>\n",
       "      <td>1.00</td>\n",
       "      <td>2.00</td>\n",
       "      <td>2.00</td>\n",
       "      <td>1.00</td>\n",
       "      <td>98.0</td>\n",
       "      <td>1.0</td>\n",
       "      <td>30.0000</td>\n",
       "      <td>2.0</td>\n",
       "      <td>65.00</td>\n",
       "      <td>0.0</td>\n",
       "      <td>1.0</td>\n",
       "      <td>0.0</td>\n",
       "      <td>0.0</td>\n",
       "      <td>0.0</td>\n",
       "      <td>0.0</td>\n",
       "      <td>0.0</td>\n",
       "      <td>0.0</td>\n",
       "    </tr>\n",
       "    <tr>\n",
       "      <th>6</th>\n",
       "      <td>4500791.0</td>\n",
       "      <td>1.00</td>\n",
       "      <td>2.00</td>\n",
       "      <td>2.00</td>\n",
       "      <td>1.00</td>\n",
       "      <td>98.0</td>\n",
       "      <td>1.0</td>\n",
       "      <td>32.0000</td>\n",
       "      <td>2.0</td>\n",
       "      <td>65.00</td>\n",
       "      <td>0.0</td>\n",
       "      <td>1.0</td>\n",
       "      <td>0.0</td>\n",
       "      <td>0.0</td>\n",
       "      <td>0.0</td>\n",
       "      <td>0.0</td>\n",
       "      <td>0.0</td>\n",
       "      <td>0.0</td>\n",
       "    </tr>\n",
       "    <tr>\n",
       "      <th>7</th>\n",
       "      <td>4500791.0</td>\n",
       "      <td>1.00</td>\n",
       "      <td>2.00</td>\n",
       "      <td>2.00</td>\n",
       "      <td>1.00</td>\n",
       "      <td>98.0</td>\n",
       "      <td>1.0</td>\n",
       "      <td>32.0000</td>\n",
       "      <td>2.0</td>\n",
       "      <td>65.00</td>\n",
       "      <td>0.0</td>\n",
       "      <td>1.0</td>\n",
       "      <td>0.0</td>\n",
       "      <td>0.0</td>\n",
       "      <td>0.0</td>\n",
       "      <td>0.0</td>\n",
       "      <td>0.0</td>\n",
       "      <td>0.0</td>\n",
       "    </tr>\n",
       "    <tr>\n",
       "      <th>8</th>\n",
       "      <td>4500791.0</td>\n",
       "      <td>1.00</td>\n",
       "      <td>2.00</td>\n",
       "      <td>2.00</td>\n",
       "      <td>1.00</td>\n",
       "      <td>98.0</td>\n",
       "      <td>1.0</td>\n",
       "      <td>32.5000</td>\n",
       "      <td>2.0</td>\n",
       "      <td>65.00</td>\n",
       "      <td>0.0</td>\n",
       "      <td>1.0</td>\n",
       "      <td>0.0</td>\n",
       "      <td>0.0</td>\n",
       "      <td>0.0</td>\n",
       "      <td>0.0</td>\n",
       "      <td>0.0</td>\n",
       "      <td>0.0</td>\n",
       "    </tr>\n",
       "    <tr>\n",
       "      <th>9</th>\n",
       "      <td>11622991.0</td>\n",
       "      <td>2.00</td>\n",
       "      <td>1.00</td>\n",
       "      <td>4.00</td>\n",
       "      <td>0.00</td>\n",
       "      <td>64.0</td>\n",
       "      <td>1.0</td>\n",
       "      <td>58.8500</td>\n",
       "      <td>3.0</td>\n",
       "      <td>176.55</td>\n",
       "      <td>0.0</td>\n",
       "      <td>0.0</td>\n",
       "      <td>0.0</td>\n",
       "      <td>0.0</td>\n",
       "      <td>0.0</td>\n",
       "      <td>0.0</td>\n",
       "      <td>0.0</td>\n",
       "      <td>0.0</td>\n",
       "    </tr>\n",
       "    <tr>\n",
       "      <th>10</th>\n",
       "      <td>11622991.0</td>\n",
       "      <td>2.00</td>\n",
       "      <td>1.00</td>\n",
       "      <td>4.00</td>\n",
       "      <td>0.00</td>\n",
       "      <td>64.0</td>\n",
       "      <td>1.0</td>\n",
       "      <td>53.0000</td>\n",
       "      <td>3.0</td>\n",
       "      <td>176.55</td>\n",
       "      <td>0.0</td>\n",
       "      <td>0.0</td>\n",
       "      <td>0.0</td>\n",
       "      <td>0.0</td>\n",
       "      <td>0.0</td>\n",
       "      <td>0.0</td>\n",
       "      <td>0.0</td>\n",
       "      <td>0.0</td>\n",
       "    </tr>\n",
       "    <tr>\n",
       "      <th>11</th>\n",
       "      <td>11622991.0</td>\n",
       "      <td>2.00</td>\n",
       "      <td>1.00</td>\n",
       "      <td>4.00</td>\n",
       "      <td>0.00</td>\n",
       "      <td>64.0</td>\n",
       "      <td>1.0</td>\n",
       "      <td>53.0000</td>\n",
       "      <td>3.0</td>\n",
       "      <td>176.55</td>\n",
       "      <td>0.0</td>\n",
       "      <td>0.0</td>\n",
       "      <td>0.0</td>\n",
       "      <td>0.0</td>\n",
       "      <td>0.0</td>\n",
       "      <td>0.0</td>\n",
       "      <td>0.0</td>\n",
       "      <td>0.0</td>\n",
       "    </tr>\n",
       "    <tr>\n",
       "      <th>12</th>\n",
       "      <td>11622991.0</td>\n",
       "      <td>2.00</td>\n",
       "      <td>1.25</td>\n",
       "      <td>4.00</td>\n",
       "      <td>0.00</td>\n",
       "      <td>31.0</td>\n",
       "      <td>1.0</td>\n",
       "      <td>53.0000</td>\n",
       "      <td>0.0</td>\n",
       "      <td>0.00</td>\n",
       "      <td>0.0</td>\n",
       "      <td>0.0</td>\n",
       "      <td>0.0</td>\n",
       "      <td>0.0</td>\n",
       "      <td>0.0</td>\n",
       "      <td>0.0</td>\n",
       "      <td>0.0</td>\n",
       "      <td>0.0</td>\n",
       "    </tr>\n",
       "    <tr>\n",
       "      <th>13</th>\n",
       "      <td>11622991.0</td>\n",
       "      <td>2.00</td>\n",
       "      <td>1.25</td>\n",
       "      <td>4.00</td>\n",
       "      <td>0.00</td>\n",
       "      <td>31.0</td>\n",
       "      <td>1.0</td>\n",
       "      <td>53.0000</td>\n",
       "      <td>0.0</td>\n",
       "      <td>0.00</td>\n",
       "      <td>0.0</td>\n",
       "      <td>0.0</td>\n",
       "      <td>0.0</td>\n",
       "      <td>0.0</td>\n",
       "      <td>0.0</td>\n",
       "      <td>0.0</td>\n",
       "      <td>0.0</td>\n",
       "      <td>0.0</td>\n",
       "    </tr>\n",
       "    <tr>\n",
       "      <th>14</th>\n",
       "      <td>11622991.0</td>\n",
       "      <td>2.00</td>\n",
       "      <td>1.25</td>\n",
       "      <td>4.00</td>\n",
       "      <td>0.00</td>\n",
       "      <td>31.0</td>\n",
       "      <td>1.0</td>\n",
       "      <td>53.0000</td>\n",
       "      <td>0.0</td>\n",
       "      <td>0.00</td>\n",
       "      <td>0.0</td>\n",
       "      <td>0.0</td>\n",
       "      <td>0.0</td>\n",
       "      <td>0.0</td>\n",
       "      <td>0.0</td>\n",
       "      <td>0.0</td>\n",
       "      <td>0.0</td>\n",
       "      <td>0.0</td>\n",
       "    </tr>\n",
       "    <tr>\n",
       "      <th>15</th>\n",
       "      <td>11622991.0</td>\n",
       "      <td>2.00</td>\n",
       "      <td>1.25</td>\n",
       "      <td>4.00</td>\n",
       "      <td>0.00</td>\n",
       "      <td>31.0</td>\n",
       "      <td>1.0</td>\n",
       "      <td>29.0000</td>\n",
       "      <td>0.0</td>\n",
       "      <td>0.00</td>\n",
       "      <td>0.0</td>\n",
       "      <td>0.0</td>\n",
       "      <td>0.0</td>\n",
       "      <td>0.0</td>\n",
       "      <td>0.0</td>\n",
       "      <td>0.0</td>\n",
       "      <td>0.0</td>\n",
       "      <td>0.0</td>\n",
       "    </tr>\n",
       "    <tr>\n",
       "      <th>16</th>\n",
       "      <td>579810.0</td>\n",
       "      <td>2.00</td>\n",
       "      <td>2.00</td>\n",
       "      <td>3.00</td>\n",
       "      <td>0.00</td>\n",
       "      <td>85.0</td>\n",
       "      <td>1.0</td>\n",
       "      <td>28.0000</td>\n",
       "      <td>0.0</td>\n",
       "      <td>0.00</td>\n",
       "      <td>0.0</td>\n",
       "      <td>0.0</td>\n",
       "      <td>0.0</td>\n",
       "      <td>0.0</td>\n",
       "      <td>0.0</td>\n",
       "      <td>0.0</td>\n",
       "      <td>1.0</td>\n",
       "      <td>0.0</td>\n",
       "    </tr>\n",
       "    <tr>\n",
       "      <th>17</th>\n",
       "      <td>7187017.0</td>\n",
       "      <td>3.00</td>\n",
       "      <td>1.75</td>\n",
       "      <td>3.00</td>\n",
       "      <td>1.00</td>\n",
       "      <td>83.0</td>\n",
       "      <td>1.0</td>\n",
       "      <td>53.0000</td>\n",
       "      <td>0.0</td>\n",
       "      <td>0.00</td>\n",
       "      <td>0.0</td>\n",
       "      <td>0.0</td>\n",
       "      <td>0.0</td>\n",
       "      <td>0.0</td>\n",
       "      <td>0.0</td>\n",
       "      <td>0.0</td>\n",
       "      <td>0.0</td>\n",
       "      <td>1.0</td>\n",
       "    </tr>\n",
       "    <tr>\n",
       "      <th>18</th>\n",
       "      <td>7187017.0</td>\n",
       "      <td>3.00</td>\n",
       "      <td>1.75</td>\n",
       "      <td>3.00</td>\n",
       "      <td>1.00</td>\n",
       "      <td>55.0</td>\n",
       "      <td>1.0</td>\n",
       "      <td>53.0000</td>\n",
       "      <td>0.0</td>\n",
       "      <td>0.00</td>\n",
       "      <td>0.0</td>\n",
       "      <td>0.0</td>\n",
       "      <td>0.0</td>\n",
       "      <td>0.0</td>\n",
       "      <td>0.0</td>\n",
       "      <td>0.0</td>\n",
       "      <td>0.0</td>\n",
       "      <td>0.0</td>\n",
       "    </tr>\n",
       "    <tr>\n",
       "      <th>19</th>\n",
       "      <td>7187017.0</td>\n",
       "      <td>3.00</td>\n",
       "      <td>1.75</td>\n",
       "      <td>3.00</td>\n",
       "      <td>1.00</td>\n",
       "      <td>55.0</td>\n",
       "      <td>1.0</td>\n",
       "      <td>53.0000</td>\n",
       "      <td>0.0</td>\n",
       "      <td>0.00</td>\n",
       "      <td>0.0</td>\n",
       "      <td>0.0</td>\n",
       "      <td>0.0</td>\n",
       "      <td>0.0</td>\n",
       "      <td>0.0</td>\n",
       "      <td>0.0</td>\n",
       "      <td>0.0</td>\n",
       "      <td>0.0</td>\n",
       "    </tr>\n",
       "    <tr>\n",
       "      <th>20</th>\n",
       "      <td>7187017.0</td>\n",
       "      <td>3.00</td>\n",
       "      <td>1.75</td>\n",
       "      <td>3.00</td>\n",
       "      <td>1.00</td>\n",
       "      <td>55.0</td>\n",
       "      <td>1.0</td>\n",
       "      <td>53.0000</td>\n",
       "      <td>0.0</td>\n",
       "      <td>0.00</td>\n",
       "      <td>0.0</td>\n",
       "      <td>0.0</td>\n",
       "      <td>0.0</td>\n",
       "      <td>0.0</td>\n",
       "      <td>0.0</td>\n",
       "      <td>0.0</td>\n",
       "      <td>0.0</td>\n",
       "      <td>0.0</td>\n",
       "    </tr>\n",
       "    <tr>\n",
       "      <th>21</th>\n",
       "      <td>7187017.0</td>\n",
       "      <td>3.00</td>\n",
       "      <td>1.75</td>\n",
       "      <td>3.00</td>\n",
       "      <td>1.00</td>\n",
       "      <td>55.0</td>\n",
       "      <td>1.0</td>\n",
       "      <td>53.0000</td>\n",
       "      <td>0.0</td>\n",
       "      <td>0.00</td>\n",
       "      <td>0.0</td>\n",
       "      <td>0.0</td>\n",
       "      <td>0.0</td>\n",
       "      <td>0.0</td>\n",
       "      <td>0.0</td>\n",
       "      <td>0.0</td>\n",
       "      <td>0.0</td>\n",
       "      <td>0.0</td>\n",
       "    </tr>\n",
       "    <tr>\n",
       "      <th>22</th>\n",
       "      <td>7187017.0</td>\n",
       "      <td>3.00</td>\n",
       "      <td>1.75</td>\n",
       "      <td>3.00</td>\n",
       "      <td>1.00</td>\n",
       "      <td>82.0</td>\n",
       "      <td>1.0</td>\n",
       "      <td>58.8500</td>\n",
       "      <td>1.0</td>\n",
       "      <td>58.85</td>\n",
       "      <td>0.0</td>\n",
       "      <td>0.0</td>\n",
       "      <td>0.0</td>\n",
       "      <td>0.0</td>\n",
       "      <td>0.0</td>\n",
       "      <td>0.0</td>\n",
       "      <td>0.0</td>\n",
       "      <td>0.0</td>\n",
       "    </tr>\n",
       "    <tr>\n",
       "      <th>23</th>\n",
       "      <td>7728088.0</td>\n",
       "      <td>3.00</td>\n",
       "      <td>2.00</td>\n",
       "      <td>4.00</td>\n",
       "      <td>4.00</td>\n",
       "      <td>83.0</td>\n",
       "      <td>1.0</td>\n",
       "      <td>53.0000</td>\n",
       "      <td>1.0</td>\n",
       "      <td>58.85</td>\n",
       "      <td>0.0</td>\n",
       "      <td>0.0</td>\n",
       "      <td>0.0</td>\n",
       "      <td>0.0</td>\n",
       "      <td>0.0</td>\n",
       "      <td>0.0</td>\n",
       "      <td>0.0</td>\n",
       "      <td>0.0</td>\n",
       "    </tr>\n",
       "    <tr>\n",
       "      <th>24</th>\n",
       "      <td>7728088.0</td>\n",
       "      <td>3.00</td>\n",
       "      <td>2.00</td>\n",
       "      <td>4.00</td>\n",
       "      <td>3.00</td>\n",
       "      <td>71.0</td>\n",
       "      <td>1.0</td>\n",
       "      <td>53.0000</td>\n",
       "      <td>0.0</td>\n",
       "      <td>0.00</td>\n",
       "      <td>0.0</td>\n",
       "      <td>0.0</td>\n",
       "      <td>0.0</td>\n",
       "      <td>0.0</td>\n",
       "      <td>0.0</td>\n",
       "      <td>0.0</td>\n",
       "      <td>0.0</td>\n",
       "      <td>0.0</td>\n",
       "    </tr>\n",
       "    <tr>\n",
       "      <th>25</th>\n",
       "      <td>7728088.0</td>\n",
       "      <td>3.00</td>\n",
       "      <td>2.00</td>\n",
       "      <td>4.00</td>\n",
       "      <td>3.00</td>\n",
       "      <td>71.0</td>\n",
       "      <td>1.0</td>\n",
       "      <td>53.0000</td>\n",
       "      <td>0.0</td>\n",
       "      <td>0.00</td>\n",
       "      <td>0.0</td>\n",
       "      <td>0.0</td>\n",
       "      <td>0.0</td>\n",
       "      <td>0.0</td>\n",
       "      <td>0.0</td>\n",
       "      <td>0.0</td>\n",
       "      <td>0.0</td>\n",
       "      <td>0.0</td>\n",
       "    </tr>\n",
       "    <tr>\n",
       "      <th>26</th>\n",
       "      <td>7728088.0</td>\n",
       "      <td>3.00</td>\n",
       "      <td>2.00</td>\n",
       "      <td>4.00</td>\n",
       "      <td>4.00</td>\n",
       "      <td>37.0</td>\n",
       "      <td>1.0</td>\n",
       "      <td>54.4625</td>\n",
       "      <td>0.0</td>\n",
       "      <td>0.00</td>\n",
       "      <td>0.0</td>\n",
       "      <td>0.0</td>\n",
       "      <td>0.0</td>\n",
       "      <td>0.0</td>\n",
       "      <td>0.0</td>\n",
       "      <td>0.0</td>\n",
       "      <td>0.0</td>\n",
       "      <td>0.0</td>\n",
       "    </tr>\n",
       "    <tr>\n",
       "      <th>27</th>\n",
       "      <td>8724100.0</td>\n",
       "      <td>4.00</td>\n",
       "      <td>2.00</td>\n",
       "      <td>4.00</td>\n",
       "      <td>1.00</td>\n",
       "      <td>79.0</td>\n",
       "      <td>1.0</td>\n",
       "      <td>58.8500</td>\n",
       "      <td>1.0</td>\n",
       "      <td>58.85</td>\n",
       "      <td>0.0</td>\n",
       "      <td>0.0</td>\n",
       "      <td>0.0</td>\n",
       "      <td>0.0</td>\n",
       "      <td>0.0</td>\n",
       "      <td>0.0</td>\n",
       "      <td>0.0</td>\n",
       "      <td>0.0</td>\n",
       "    </tr>\n",
       "    <tr>\n",
       "      <th>28</th>\n",
       "      <td>8724100.0</td>\n",
       "      <td>3.25</td>\n",
       "      <td>2.75</td>\n",
       "      <td>4.00</td>\n",
       "      <td>1.75</td>\n",
       "      <td>78.0</td>\n",
       "      <td>1.0</td>\n",
       "      <td>54.4625</td>\n",
       "      <td>0.0</td>\n",
       "      <td>0.00</td>\n",
       "      <td>0.0</td>\n",
       "      <td>0.0</td>\n",
       "      <td>0.0</td>\n",
       "      <td>0.0</td>\n",
       "      <td>0.0</td>\n",
       "      <td>0.0</td>\n",
       "      <td>0.0</td>\n",
       "      <td>0.0</td>\n",
       "    </tr>\n",
       "    <tr>\n",
       "      <th>29</th>\n",
       "      <td>12394451.0</td>\n",
       "      <td>2.00</td>\n",
       "      <td>3.00</td>\n",
       "      <td>4.00</td>\n",
       "      <td>0.00</td>\n",
       "      <td>80.0</td>\n",
       "      <td>1.0</td>\n",
       "      <td>58.8500</td>\n",
       "      <td>0.0</td>\n",
       "      <td>0.00</td>\n",
       "      <td>0.0</td>\n",
       "      <td>0.0</td>\n",
       "      <td>0.0</td>\n",
       "      <td>0.0</td>\n",
       "      <td>0.0</td>\n",
       "      <td>0.0</td>\n",
       "      <td>0.0</td>\n",
       "      <td>0.0</td>\n",
       "    </tr>\n",
       "    <tr>\n",
       "      <th>30</th>\n",
       "      <td>12394451.0</td>\n",
       "      <td>2.00</td>\n",
       "      <td>3.00</td>\n",
       "      <td>4.00</td>\n",
       "      <td>0.00</td>\n",
       "      <td>81.0</td>\n",
       "      <td>1.0</td>\n",
       "      <td>57.3875</td>\n",
       "      <td>0.0</td>\n",
       "      <td>0.00</td>\n",
       "      <td>0.0</td>\n",
       "      <td>0.0</td>\n",
       "      <td>0.0</td>\n",
       "      <td>0.0</td>\n",
       "      <td>0.0</td>\n",
       "      <td>0.0</td>\n",
       "      <td>0.0</td>\n",
       "      <td>0.0</td>\n",
       "    </tr>\n",
       "    <tr>\n",
       "      <th>31</th>\n",
       "      <td>300071.0</td>\n",
       "      <td>3.00</td>\n",
       "      <td>1.00</td>\n",
       "      <td>3.00</td>\n",
       "      <td>0.00</td>\n",
       "      <td>92.0</td>\n",
       "      <td>1.0</td>\n",
       "      <td>29.0000</td>\n",
       "      <td>1.0</td>\n",
       "      <td>29.00</td>\n",
       "      <td>0.0</td>\n",
       "      <td>0.0</td>\n",
       "      <td>0.0</td>\n",
       "      <td>0.0</td>\n",
       "      <td>0.0</td>\n",
       "      <td>0.0</td>\n",
       "      <td>0.0</td>\n",
       "      <td>0.0</td>\n",
       "    </tr>\n",
       "    <tr>\n",
       "      <th>32</th>\n",
       "      <td>18185185.0</td>\n",
       "      <td>4.00</td>\n",
       "      <td>2.00</td>\n",
       "      <td>4.00</td>\n",
       "      <td>1.00</td>\n",
       "      <td>69.0</td>\n",
       "      <td>1.0</td>\n",
       "      <td>42.7500</td>\n",
       "      <td>2.0</td>\n",
       "      <td>60.00</td>\n",
       "      <td>0.0</td>\n",
       "      <td>0.0</td>\n",
       "      <td>0.0</td>\n",
       "      <td>0.0</td>\n",
       "      <td>0.0</td>\n",
       "      <td>0.0</td>\n",
       "      <td>0.0</td>\n",
       "      <td>0.0</td>\n",
       "    </tr>\n",
       "    <tr>\n",
       "      <th>33</th>\n",
       "      <td>37549482.0</td>\n",
       "      <td>3.00</td>\n",
       "      <td>1.00</td>\n",
       "      <td>4.00</td>\n",
       "      <td>0.00</td>\n",
       "      <td>87.0</td>\n",
       "      <td>1.0</td>\n",
       "      <td>33.0000</td>\n",
       "      <td>1.0</td>\n",
       "      <td>33.00</td>\n",
       "      <td>0.0</td>\n",
       "      <td>0.0</td>\n",
       "      <td>0.0</td>\n",
       "      <td>0.0</td>\n",
       "      <td>0.0</td>\n",
       "      <td>0.0</td>\n",
       "      <td>1.0</td>\n",
       "      <td>0.0</td>\n",
       "    </tr>\n",
       "    <tr>\n",
       "      <th>34</th>\n",
       "      <td>37549482.0</td>\n",
       "      <td>3.00</td>\n",
       "      <td>1.00</td>\n",
       "      <td>4.00</td>\n",
       "      <td>0.00</td>\n",
       "      <td>86.0</td>\n",
       "      <td>1.0</td>\n",
       "      <td>30.7500</td>\n",
       "      <td>0.0</td>\n",
       "      <td>0.00</td>\n",
       "      <td>0.0</td>\n",
       "      <td>0.0</td>\n",
       "      <td>0.0</td>\n",
       "      <td>0.0</td>\n",
       "      <td>0.0</td>\n",
       "      <td>0.0</td>\n",
       "      <td>0.0</td>\n",
       "      <td>0.0</td>\n",
       "    </tr>\n",
       "    <tr>\n",
       "      <th>35</th>\n",
       "      <td>6255081.0</td>\n",
       "      <td>1.00</td>\n",
       "      <td>1.25</td>\n",
       "      <td>3.00</td>\n",
       "      <td>0.00</td>\n",
       "      <td>79.0</td>\n",
       "      <td>1.0</td>\n",
       "      <td>32.5000</td>\n",
       "      <td>1.0</td>\n",
       "      <td>32.50</td>\n",
       "      <td>0.0</td>\n",
       "      <td>0.0</td>\n",
       "      <td>0.0</td>\n",
       "      <td>0.0</td>\n",
       "      <td>0.0</td>\n",
       "      <td>0.0</td>\n",
       "      <td>0.0</td>\n",
       "      <td>0.0</td>\n",
       "    </tr>\n",
       "    <tr>\n",
       "      <th>36</th>\n",
       "      <td>9562315.0</td>\n",
       "      <td>1.00</td>\n",
       "      <td>1.00</td>\n",
       "      <td>2.00</td>\n",
       "      <td>0.00</td>\n",
       "      <td>59.0</td>\n",
       "      <td>1.0</td>\n",
       "      <td>33.0000</td>\n",
       "      <td>4.0</td>\n",
       "      <td>124.50</td>\n",
       "      <td>0.0</td>\n",
       "      <td>0.0</td>\n",
       "      <td>0.0</td>\n",
       "      <td>0.0</td>\n",
       "      <td>0.0</td>\n",
       "      <td>0.0</td>\n",
       "      <td>0.0</td>\n",
       "      <td>0.0</td>\n",
       "    </tr>\n",
       "    <tr>\n",
       "      <th>37</th>\n",
       "      <td>9562315.0</td>\n",
       "      <td>1.00</td>\n",
       "      <td>1.00</td>\n",
       "      <td>2.00</td>\n",
       "      <td>0.00</td>\n",
       "      <td>59.0</td>\n",
       "      <td>1.0</td>\n",
       "      <td>30.0000</td>\n",
       "      <td>4.0</td>\n",
       "      <td>124.50</td>\n",
       "      <td>0.0</td>\n",
       "      <td>0.0</td>\n",
       "      <td>0.0</td>\n",
       "      <td>0.0</td>\n",
       "      <td>0.0</td>\n",
       "      <td>0.0</td>\n",
       "      <td>0.0</td>\n",
       "      <td>0.0</td>\n",
       "    </tr>\n",
       "    <tr>\n",
       "      <th>38</th>\n",
       "      <td>9562315.0</td>\n",
       "      <td>1.00</td>\n",
       "      <td>1.00</td>\n",
       "      <td>2.00</td>\n",
       "      <td>0.00</td>\n",
       "      <td>59.0</td>\n",
       "      <td>1.0</td>\n",
       "      <td>30.0000</td>\n",
       "      <td>4.0</td>\n",
       "      <td>124.50</td>\n",
       "      <td>0.0</td>\n",
       "      <td>0.0</td>\n",
       "      <td>0.0</td>\n",
       "      <td>0.0</td>\n",
       "      <td>0.0</td>\n",
       "      <td>0.0</td>\n",
       "      <td>0.0</td>\n",
       "      <td>0.0</td>\n",
       "    </tr>\n",
       "    <tr>\n",
       "      <th>39</th>\n",
       "      <td>9562315.0</td>\n",
       "      <td>1.00</td>\n",
       "      <td>1.00</td>\n",
       "      <td>2.00</td>\n",
       "      <td>0.00</td>\n",
       "      <td>59.0</td>\n",
       "      <td>1.0</td>\n",
       "      <td>30.0000</td>\n",
       "      <td>4.0</td>\n",
       "      <td>124.50</td>\n",
       "      <td>0.0</td>\n",
       "      <td>0.0</td>\n",
       "      <td>0.0</td>\n",
       "      <td>0.0</td>\n",
       "      <td>0.0</td>\n",
       "      <td>0.0</td>\n",
       "      <td>0.0</td>\n",
       "      <td>0.0</td>\n",
       "    </tr>\n",
       "    <tr>\n",
       "      <th>40</th>\n",
       "      <td>94798244.0</td>\n",
       "      <td>2.00</td>\n",
       "      <td>2.00</td>\n",
       "      <td>3.00</td>\n",
       "      <td>1.00</td>\n",
       "      <td>75.0</td>\n",
       "      <td>1.0</td>\n",
       "      <td>53.0000</td>\n",
       "      <td>1.0</td>\n",
       "      <td>58.85</td>\n",
       "      <td>0.0</td>\n",
       "      <td>0.0</td>\n",
       "      <td>0.0</td>\n",
       "      <td>0.0</td>\n",
       "      <td>0.0</td>\n",
       "      <td>0.0</td>\n",
       "      <td>0.0</td>\n",
       "      <td>0.0</td>\n",
       "    </tr>\n",
       "    <tr>\n",
       "      <th>41</th>\n",
       "      <td>24878379.0</td>\n",
       "      <td>3.50</td>\n",
       "      <td>1.75</td>\n",
       "      <td>4.00</td>\n",
       "      <td>0.00</td>\n",
       "      <td>82.0</td>\n",
       "      <td>1.0</td>\n",
       "      <td>30.0000</td>\n",
       "      <td>2.0</td>\n",
       "      <td>65.00</td>\n",
       "      <td>0.0</td>\n",
       "      <td>0.0</td>\n",
       "      <td>0.0</td>\n",
       "      <td>0.0</td>\n",
       "      <td>0.0</td>\n",
       "      <td>0.0</td>\n",
       "      <td>1.0</td>\n",
       "      <td>1.0</td>\n",
       "    </tr>\n",
       "    <tr>\n",
       "      <th>42</th>\n",
       "      <td>24878379.0</td>\n",
       "      <td>3.50</td>\n",
       "      <td>1.75</td>\n",
       "      <td>4.00</td>\n",
       "      <td>0.00</td>\n",
       "      <td>82.0</td>\n",
       "      <td>1.0</td>\n",
       "      <td>90.0000</td>\n",
       "      <td>2.0</td>\n",
       "      <td>65.00</td>\n",
       "      <td>0.0</td>\n",
       "      <td>0.0</td>\n",
       "      <td>0.0</td>\n",
       "      <td>0.0</td>\n",
       "      <td>0.0</td>\n",
       "      <td>0.0</td>\n",
       "      <td>1.0</td>\n",
       "      <td>1.0</td>\n",
       "    </tr>\n",
       "    <tr>\n",
       "      <th>43</th>\n",
       "      <td>24878379.0</td>\n",
       "      <td>3.50</td>\n",
       "      <td>1.75</td>\n",
       "      <td>4.00</td>\n",
       "      <td>0.00</td>\n",
       "      <td>82.0</td>\n",
       "      <td>1.0</td>\n",
       "      <td>90.0000</td>\n",
       "      <td>2.0</td>\n",
       "      <td>65.00</td>\n",
       "      <td>0.0</td>\n",
       "      <td>0.0</td>\n",
       "      <td>0.0</td>\n",
       "      <td>0.0</td>\n",
       "      <td>0.0</td>\n",
       "      <td>0.0</td>\n",
       "      <td>1.0</td>\n",
       "      <td>1.0</td>\n",
       "    </tr>\n",
       "    <tr>\n",
       "      <th>44</th>\n",
       "      <td>24878379.0</td>\n",
       "      <td>3.50</td>\n",
       "      <td>1.75</td>\n",
       "      <td>4.00</td>\n",
       "      <td>0.00</td>\n",
       "      <td>82.0</td>\n",
       "      <td>1.0</td>\n",
       "      <td>32.5000</td>\n",
       "      <td>2.0</td>\n",
       "      <td>65.00</td>\n",
       "      <td>0.0</td>\n",
       "      <td>0.0</td>\n",
       "      <td>0.0</td>\n",
       "      <td>0.0</td>\n",
       "      <td>0.0</td>\n",
       "      <td>0.0</td>\n",
       "      <td>1.0</td>\n",
       "      <td>1.0</td>\n",
       "    </tr>\n",
       "    <tr>\n",
       "      <th>45</th>\n",
       "      <td>24878379.0</td>\n",
       "      <td>3.50</td>\n",
       "      <td>1.75</td>\n",
       "      <td>4.00</td>\n",
       "      <td>0.00</td>\n",
       "      <td>82.0</td>\n",
       "      <td>1.0</td>\n",
       "      <td>60.6250</td>\n",
       "      <td>0.0</td>\n",
       "      <td>0.00</td>\n",
       "      <td>0.0</td>\n",
       "      <td>0.0</td>\n",
       "      <td>0.0</td>\n",
       "      <td>0.0</td>\n",
       "      <td>0.0</td>\n",
       "      <td>0.0</td>\n",
       "      <td>0.0</td>\n",
       "      <td>1.0</td>\n",
       "    </tr>\n",
       "    <tr>\n",
       "      <th>46</th>\n",
       "      <td>9554430.0</td>\n",
       "      <td>4.00</td>\n",
       "      <td>2.00</td>\n",
       "      <td>4.00</td>\n",
       "      <td>0.00</td>\n",
       "      <td>85.0</td>\n",
       "      <td>1.0</td>\n",
       "      <td>30.2500</td>\n",
       "      <td>0.0</td>\n",
       "      <td>0.00</td>\n",
       "      <td>0.0</td>\n",
       "      <td>0.0</td>\n",
       "      <td>0.0</td>\n",
       "      <td>0.0</td>\n",
       "      <td>0.0</td>\n",
       "      <td>0.0</td>\n",
       "      <td>0.0</td>\n",
       "      <td>0.0</td>\n",
       "    </tr>\n",
       "    <tr>\n",
       "      <th>47</th>\n",
       "      <td>9554430.0</td>\n",
       "      <td>2.25</td>\n",
       "      <td>1.50</td>\n",
       "      <td>3.50</td>\n",
       "      <td>0.50</td>\n",
       "      <td>82.0</td>\n",
       "      <td>1.0</td>\n",
       "      <td>27.0000</td>\n",
       "      <td>0.0</td>\n",
       "      <td>0.00</td>\n",
       "      <td>1.0</td>\n",
       "      <td>0.0</td>\n",
       "      <td>0.0</td>\n",
       "      <td>0.0</td>\n",
       "      <td>0.0</td>\n",
       "      <td>0.0</td>\n",
       "      <td>0.0</td>\n",
       "      <td>0.0</td>\n",
       "    </tr>\n",
       "    <tr>\n",
       "      <th>48</th>\n",
       "      <td>16021561.0</td>\n",
       "      <td>3.50</td>\n",
       "      <td>2.00</td>\n",
       "      <td>3.25</td>\n",
       "      <td>1.50</td>\n",
       "      <td>69.0</td>\n",
       "      <td>1.0</td>\n",
       "      <td>69.8900</td>\n",
       "      <td>2.0</td>\n",
       "      <td>65.00</td>\n",
       "      <td>0.0</td>\n",
       "      <td>0.0</td>\n",
       "      <td>0.0</td>\n",
       "      <td>0.0</td>\n",
       "      <td>0.0</td>\n",
       "      <td>0.0</td>\n",
       "      <td>0.0</td>\n",
       "      <td>0.0</td>\n",
       "    </tr>\n",
       "    <tr>\n",
       "      <th>49</th>\n",
       "      <td>13473000.0</td>\n",
       "      <td>2.00</td>\n",
       "      <td>1.00</td>\n",
       "      <td>2.00</td>\n",
       "      <td>2.00</td>\n",
       "      <td>70.0</td>\n",
       "      <td>1.0</td>\n",
       "      <td>55.2500</td>\n",
       "      <td>1.0</td>\n",
       "      <td>58.85</td>\n",
       "      <td>0.0</td>\n",
       "      <td>0.0</td>\n",
       "      <td>0.0</td>\n",
       "      <td>0.0</td>\n",
       "      <td>0.0</td>\n",
       "      <td>0.0</td>\n",
       "      <td>0.0</td>\n",
       "      <td>0.0</td>\n",
       "    </tr>\n",
       "  </tbody>\n",
       "</table>\n",
       "</div>"
      ],
      "text/plain": [
       "             0     1     2     3     4     5    6        7    8       9   10  \\\n",
       "0    4500791.0  1.00  2.00  2.00  1.00  98.0  1.0  32.5000  2.0   65.00  0.0   \n",
       "1    4500791.0  1.00  2.00  2.00  1.00  98.0  1.0  30.0000  2.0   65.00  0.0   \n",
       "2    4500791.0  1.00  2.00  2.00  1.00  98.0  1.0  32.5000  2.0   65.00  0.0   \n",
       "3    4500791.0  1.00  2.00  2.00  1.00  98.0  1.0  30.0000  2.0   65.00  0.0   \n",
       "4    4500791.0  1.00  2.00  2.00  1.00  98.0  1.0  53.0000  2.0   65.00  0.0   \n",
       "5    4500791.0  1.00  2.00  2.00  1.00  98.0  1.0  30.0000  2.0   65.00  0.0   \n",
       "6    4500791.0  1.00  2.00  2.00  1.00  98.0  1.0  32.0000  2.0   65.00  0.0   \n",
       "7    4500791.0  1.00  2.00  2.00  1.00  98.0  1.0  32.0000  2.0   65.00  0.0   \n",
       "8    4500791.0  1.00  2.00  2.00  1.00  98.0  1.0  32.5000  2.0   65.00  0.0   \n",
       "9   11622991.0  2.00  1.00  4.00  0.00  64.0  1.0  58.8500  3.0  176.55  0.0   \n",
       "10  11622991.0  2.00  1.00  4.00  0.00  64.0  1.0  53.0000  3.0  176.55  0.0   \n",
       "11  11622991.0  2.00  1.00  4.00  0.00  64.0  1.0  53.0000  3.0  176.55  0.0   \n",
       "12  11622991.0  2.00  1.25  4.00  0.00  31.0  1.0  53.0000  0.0    0.00  0.0   \n",
       "13  11622991.0  2.00  1.25  4.00  0.00  31.0  1.0  53.0000  0.0    0.00  0.0   \n",
       "14  11622991.0  2.00  1.25  4.00  0.00  31.0  1.0  53.0000  0.0    0.00  0.0   \n",
       "15  11622991.0  2.00  1.25  4.00  0.00  31.0  1.0  29.0000  0.0    0.00  0.0   \n",
       "16    579810.0  2.00  2.00  3.00  0.00  85.0  1.0  28.0000  0.0    0.00  0.0   \n",
       "17   7187017.0  3.00  1.75  3.00  1.00  83.0  1.0  53.0000  0.0    0.00  0.0   \n",
       "18   7187017.0  3.00  1.75  3.00  1.00  55.0  1.0  53.0000  0.0    0.00  0.0   \n",
       "19   7187017.0  3.00  1.75  3.00  1.00  55.0  1.0  53.0000  0.0    0.00  0.0   \n",
       "20   7187017.0  3.00  1.75  3.00  1.00  55.0  1.0  53.0000  0.0    0.00  0.0   \n",
       "21   7187017.0  3.00  1.75  3.00  1.00  55.0  1.0  53.0000  0.0    0.00  0.0   \n",
       "22   7187017.0  3.00  1.75  3.00  1.00  82.0  1.0  58.8500  1.0   58.85  0.0   \n",
       "23   7728088.0  3.00  2.00  4.00  4.00  83.0  1.0  53.0000  1.0   58.85  0.0   \n",
       "24   7728088.0  3.00  2.00  4.00  3.00  71.0  1.0  53.0000  0.0    0.00  0.0   \n",
       "25   7728088.0  3.00  2.00  4.00  3.00  71.0  1.0  53.0000  0.0    0.00  0.0   \n",
       "26   7728088.0  3.00  2.00  4.00  4.00  37.0  1.0  54.4625  0.0    0.00  0.0   \n",
       "27   8724100.0  4.00  2.00  4.00  1.00  79.0  1.0  58.8500  1.0   58.85  0.0   \n",
       "28   8724100.0  3.25  2.75  4.00  1.75  78.0  1.0  54.4625  0.0    0.00  0.0   \n",
       "29  12394451.0  2.00  3.00  4.00  0.00  80.0  1.0  58.8500  0.0    0.00  0.0   \n",
       "30  12394451.0  2.00  3.00  4.00  0.00  81.0  1.0  57.3875  0.0    0.00  0.0   \n",
       "31    300071.0  3.00  1.00  3.00  0.00  92.0  1.0  29.0000  1.0   29.00  0.0   \n",
       "32  18185185.0  4.00  2.00  4.00  1.00  69.0  1.0  42.7500  2.0   60.00  0.0   \n",
       "33  37549482.0  3.00  1.00  4.00  0.00  87.0  1.0  33.0000  1.0   33.00  0.0   \n",
       "34  37549482.0  3.00  1.00  4.00  0.00  86.0  1.0  30.7500  0.0    0.00  0.0   \n",
       "35   6255081.0  1.00  1.25  3.00  0.00  79.0  1.0  32.5000  1.0   32.50  0.0   \n",
       "36   9562315.0  1.00  1.00  2.00  0.00  59.0  1.0  33.0000  4.0  124.50  0.0   \n",
       "37   9562315.0  1.00  1.00  2.00  0.00  59.0  1.0  30.0000  4.0  124.50  0.0   \n",
       "38   9562315.0  1.00  1.00  2.00  0.00  59.0  1.0  30.0000  4.0  124.50  0.0   \n",
       "39   9562315.0  1.00  1.00  2.00  0.00  59.0  1.0  30.0000  4.0  124.50  0.0   \n",
       "40  94798244.0  2.00  2.00  3.00  1.00  75.0  1.0  53.0000  1.0   58.85  0.0   \n",
       "41  24878379.0  3.50  1.75  4.00  0.00  82.0  1.0  30.0000  2.0   65.00  0.0   \n",
       "42  24878379.0  3.50  1.75  4.00  0.00  82.0  1.0  90.0000  2.0   65.00  0.0   \n",
       "43  24878379.0  3.50  1.75  4.00  0.00  82.0  1.0  90.0000  2.0   65.00  0.0   \n",
       "44  24878379.0  3.50  1.75  4.00  0.00  82.0  1.0  32.5000  2.0   65.00  0.0   \n",
       "45  24878379.0  3.50  1.75  4.00  0.00  82.0  1.0  60.6250  0.0    0.00  0.0   \n",
       "46   9554430.0  4.00  2.00  4.00  0.00  85.0  1.0  30.2500  0.0    0.00  0.0   \n",
       "47   9554430.0  2.25  1.50  3.50  0.50  82.0  1.0  27.0000  0.0    0.00  1.0   \n",
       "48  16021561.0  3.50  2.00  3.25  1.50  69.0  1.0  69.8900  2.0   65.00  0.0   \n",
       "49  13473000.0  2.00  1.00  2.00  2.00  70.0  1.0  55.2500  1.0   58.85  0.0   \n",
       "\n",
       "     11   12   13   14   15   16   17  \n",
       "0   1.0  0.0  0.0  0.0  0.0  0.0  0.0  \n",
       "1   1.0  0.0  0.0  0.0  0.0  0.0  0.0  \n",
       "2   1.0  0.0  0.0  0.0  0.0  0.0  0.0  \n",
       "3   1.0  0.0  0.0  0.0  0.0  0.0  0.0  \n",
       "4   1.0  0.0  0.0  0.0  0.0  0.0  0.0  \n",
       "5   1.0  0.0  0.0  0.0  0.0  0.0  0.0  \n",
       "6   1.0  0.0  0.0  0.0  0.0  0.0  0.0  \n",
       "7   1.0  0.0  0.0  0.0  0.0  0.0  0.0  \n",
       "8   1.0  0.0  0.0  0.0  0.0  0.0  0.0  \n",
       "9   0.0  0.0  0.0  0.0  0.0  0.0  0.0  \n",
       "10  0.0  0.0  0.0  0.0  0.0  0.0  0.0  \n",
       "11  0.0  0.0  0.0  0.0  0.0  0.0  0.0  \n",
       "12  0.0  0.0  0.0  0.0  0.0  0.0  0.0  \n",
       "13  0.0  0.0  0.0  0.0  0.0  0.0  0.0  \n",
       "14  0.0  0.0  0.0  0.0  0.0  0.0  0.0  \n",
       "15  0.0  0.0  0.0  0.0  0.0  0.0  0.0  \n",
       "16  0.0  0.0  0.0  0.0  0.0  1.0  0.0  \n",
       "17  0.0  0.0  0.0  0.0  0.0  0.0  1.0  \n",
       "18  0.0  0.0  0.0  0.0  0.0  0.0  0.0  \n",
       "19  0.0  0.0  0.0  0.0  0.0  0.0  0.0  \n",
       "20  0.0  0.0  0.0  0.0  0.0  0.0  0.0  \n",
       "21  0.0  0.0  0.0  0.0  0.0  0.0  0.0  \n",
       "22  0.0  0.0  0.0  0.0  0.0  0.0  0.0  \n",
       "23  0.0  0.0  0.0  0.0  0.0  0.0  0.0  \n",
       "24  0.0  0.0  0.0  0.0  0.0  0.0  0.0  \n",
       "25  0.0  0.0  0.0  0.0  0.0  0.0  0.0  \n",
       "26  0.0  0.0  0.0  0.0  0.0  0.0  0.0  \n",
       "27  0.0  0.0  0.0  0.0  0.0  0.0  0.0  \n",
       "28  0.0  0.0  0.0  0.0  0.0  0.0  0.0  \n",
       "29  0.0  0.0  0.0  0.0  0.0  0.0  0.0  \n",
       "30  0.0  0.0  0.0  0.0  0.0  0.0  0.0  \n",
       "31  0.0  0.0  0.0  0.0  0.0  0.0  0.0  \n",
       "32  0.0  0.0  0.0  0.0  0.0  0.0  0.0  \n",
       "33  0.0  0.0  0.0  0.0  0.0  1.0  0.0  \n",
       "34  0.0  0.0  0.0  0.0  0.0  0.0  0.0  \n",
       "35  0.0  0.0  0.0  0.0  0.0  0.0  0.0  \n",
       "36  0.0  0.0  0.0  0.0  0.0  0.0  0.0  \n",
       "37  0.0  0.0  0.0  0.0  0.0  0.0  0.0  \n",
       "38  0.0  0.0  0.0  0.0  0.0  0.0  0.0  \n",
       "39  0.0  0.0  0.0  0.0  0.0  0.0  0.0  \n",
       "40  0.0  0.0  0.0  0.0  0.0  0.0  0.0  \n",
       "41  0.0  0.0  0.0  0.0  0.0  1.0  1.0  \n",
       "42  0.0  0.0  0.0  0.0  0.0  1.0  1.0  \n",
       "43  0.0  0.0  0.0  0.0  0.0  1.0  1.0  \n",
       "44  0.0  0.0  0.0  0.0  0.0  1.0  1.0  \n",
       "45  0.0  0.0  0.0  0.0  0.0  0.0  1.0  \n",
       "46  0.0  0.0  0.0  0.0  0.0  0.0  0.0  \n",
       "47  0.0  0.0  0.0  0.0  0.0  0.0  0.0  \n",
       "48  0.0  0.0  0.0  0.0  0.0  0.0  0.0  \n",
       "49  0.0  0.0  0.0  0.0  0.0  0.0  0.0  "
      ]
     },
     "execution_count": 127,
     "metadata": {},
     "output_type": "execute_result"
    }
   ],
   "source": [
    "df_imput.head(50)"
   ]
  },
  {
   "cell_type": "code",
   "execution_count": null,
   "metadata": {},
   "outputs": [],
   "source": []
  },
  {
   "cell_type": "code",
   "execution_count": null,
   "metadata": {},
   "outputs": [],
   "source": []
  },
  {
   "cell_type": "code",
   "execution_count": 131,
   "metadata": {},
   "outputs": [
    {
     "data": {
      "text/plain": [
       "['Household Key',\n",
       " 'Income',\n",
       " 'Education',\n",
       " 'Credit Ranges',\n",
       " 'Number of Children',\n",
       " 'Age',\n",
       " 'Home Owner',\n",
       " 'Total Cost',\n",
       " 'ERS ENT Count for 3 Years',\n",
       " 'ERS Member Cost for 3 Years',\n",
       " 'FSV CMSI Flag',\n",
       " 'FSV Credit Card Flag',\n",
       " 'FSV Deposit Program Flag',\n",
       " 'FSV Home Equity Flag',\n",
       " 'FSV ID Theft Flag',\n",
       " 'FSV Mortgage Flag',\n",
       " 'INS Client Flag',\n",
       " 'TRV Globalware Flag']"
      ]
     },
     "execution_count": 131,
     "metadata": {},
     "output_type": "execute_result"
    }
   ],
   "source": [
    "[cols for cols in df_f.columns]"
   ]
  },
  {
   "cell_type": "code",
   "execution_count": 150,
   "metadata": {},
   "outputs": [],
   "source": [
    "houshold_grpd = df_f.groupby('Household Key').agg({'Income':'max', 'Education':'max',\n",
    "                                 'Credit Ranges':'max', 'Number of Children':'max',\n",
    "                                 'Age':'max', 'Home Owner':'max', 'Total Cost':'sum',\n",
    "                                 'ERS ENT Count for 3 Years':'sum', 'ERS Member Cost for 3 Years':'sum',\n",
    "                                 'FSV CMSI Flag':'sum', 'FSV Credit Card Flag':'sum',\n",
    "                                 'FSV Deposit Program Flag':'sum', 'FSV Home Equity Flag':'sum',\n",
    "                                 'FSV ID Theft Flag':'sum', 'FSV Mortgage Flag':'sum',\n",
    "                                 'INS Client Flag':'sum', 'TRV Globalware Flag':'sum'})"
   ]
  },
  {
   "cell_type": "code",
   "execution_count": 151,
   "metadata": {},
   "outputs": [],
   "source": [
    "X = houshold_grpd.dropna().drop('Credit Ranges', axis=1)\n",
    "y = houshold_grpd.dropna()['Credit Ranges']\n",
    "X_train, X_test, y_train, y_test = train_test_split(X, y)\n",
    "\n",
    "lr = LinearRegression()\n",
    "knn = KNeighborsClassifier(n_neighbors=4)\n",
    "tree = DecisionTreeRegressor(max_depth=4)\n",
    "lgr = LogisticRegression()\n",
    "forest = RandomForestClassifier(n_estimators=100, max_depth=3)\n",
    "kmeans = KMeans(n_clusters=4)\n",
    "sp = SpectralClustering(n_clusters=4)\n",
    "\n"
   ]
  },
  {
   "cell_type": "code",
   "execution_count": 152,
   "metadata": {
    "scrolled": true
   },
   "outputs": [
    {
     "name": "stderr",
     "output_type": "stream",
     "text": [
      "C:\\Users\\ARASH-FEA\\.conda\\envs\\py37\\lib\\site-packages\\sklearn\\linear_model\\_logistic.py:940: ConvergenceWarning: lbfgs failed to converge (status=1):\n",
      "STOP: TOTAL NO. of ITERATIONS REACHED LIMIT.\n",
      "\n",
      "Increase the number of iterations (max_iter) or scale the data as shown in:\n",
      "    https://scikit-learn.org/stable/modules/preprocessing.html\n",
      "Please also refer to the documentation for alternative solver options:\n",
      "    https://scikit-learn.org/stable/modules/linear_model.html#logistic-regression\n",
      "  extra_warning_msg=_LOGISTIC_SOLVER_CONVERGENCE_MSG)\n",
      "C:\\Users\\ARASH-FEA\\.conda\\envs\\py37\\lib\\site-packages\\sklearn\\manifold\\_spectral_embedding.py:236: UserWarning: Graph is not fully connected, spectral embedding may not work as expected.\n",
      "  warnings.warn(\"Graph is not fully connected, spectral embedding\"\n",
      "C:\\Users\\ARASH-FEA\\.conda\\envs\\py37\\lib\\site-packages\\numpy\\core\\_methods.py:195: RuntimeWarning: overflow encountered in multiply\n",
      "  x = um.multiply(x, x, out=x)\n",
      "C:\\Users\\ARASH-FEA\\.conda\\envs\\py37\\lib\\site-packages\\numpy\\core\\_methods.py:199: RuntimeWarning: overflow encountered in reduce\n",
      "  ret = umr_sum(x, axis, dtype, out, keepdims)\n",
      "C:\\Users\\ARASH-FEA\\.conda\\envs\\py37\\lib\\site-packages\\sklearn\\utils\\extmath.py:151: RuntimeWarning: overflow encountered in matmul\n",
      "  ret = a @ b\n",
      "C:\\Users\\ARASH-FEA\\.conda\\envs\\py37\\lib\\site-packages\\sklearn\\utils\\extmath.py:151: RuntimeWarning: overflow encountered in matmul\n",
      "  ret = a @ b\n",
      "C:\\Users\\ARASH-FEA\\.conda\\envs\\py37\\lib\\site-packages\\sklearn\\metrics\\pairwise.py:304: RuntimeWarning: invalid value encountered in add\n",
      "  distances += XX\n",
      "C:\\Users\\ARASH-FEA\\.conda\\envs\\py37\\lib\\site-packages\\sklearn\\utils\\extmath.py:151: RuntimeWarning: overflow encountered in matmul\n",
      "  ret = a @ b\n",
      "C:\\Users\\ARASH-FEA\\.conda\\envs\\py37\\lib\\site-packages\\sklearn\\metrics\\pairwise.py:304: RuntimeWarning: invalid value encountered in add\n",
      "  distances += XX\n",
      "C:\\Users\\ARASH-FEA\\.conda\\envs\\py37\\lib\\site-packages\\sklearn\\utils\\extmath.py:151: RuntimeWarning: overflow encountered in matmul\n",
      "  ret = a @ b\n",
      "C:\\Users\\ARASH-FEA\\.conda\\envs\\py37\\lib\\site-packages\\sklearn\\metrics\\pairwise.py:304: RuntimeWarning: invalid value encountered in add\n",
      "  distances += XX\n",
      "C:\\Users\\ARASH-FEA\\.conda\\envs\\py37\\lib\\site-packages\\sklearn\\utils\\extmath.py:151: RuntimeWarning: overflow encountered in matmul\n",
      "  ret = a @ b\n",
      "C:\\Users\\ARASH-FEA\\.conda\\envs\\py37\\lib\\site-packages\\sklearn\\metrics\\pairwise.py:304: RuntimeWarning: invalid value encountered in add\n",
      "  distances += XX\n",
      "C:\\Users\\ARASH-FEA\\.conda\\envs\\py37\\lib\\site-packages\\sklearn\\cluster\\_kmeans.py:322: RuntimeWarning: overflow encountered in square\n",
      "  max_iter=max_iter, verbose=verbose)\n",
      "C:\\Users\\ARASH-FEA\\.conda\\envs\\py37\\lib\\site-packages\\sklearn\\utils\\extmath.py:151: RuntimeWarning: overflow encountered in matmul\n",
      "  ret = a @ b\n",
      "C:\\Users\\ARASH-FEA\\.conda\\envs\\py37\\lib\\site-packages\\sklearn\\metrics\\pairwise.py:304: RuntimeWarning: invalid value encountered in add\n",
      "  distances += XX\n",
      "C:\\Users\\ARASH-FEA\\.conda\\envs\\py37\\lib\\site-packages\\sklearn\\cluster\\_kmeans.py:322: RuntimeWarning: overflow encountered in square\n",
      "  max_iter=max_iter, verbose=verbose)\n",
      "C:\\Users\\ARASH-FEA\\.conda\\envs\\py37\\lib\\site-packages\\sklearn\\cluster\\_kmeans.py:322: RuntimeWarning: invalid value encountered in subtract\n",
      "  max_iter=max_iter, verbose=verbose)\n",
      "C:\\Users\\ARASH-FEA\\.conda\\envs\\py37\\lib\\site-packages\\sklearn\\utils\\extmath.py:151: RuntimeWarning: overflow encountered in matmul\n",
      "  ret = a @ b\n",
      "C:\\Users\\ARASH-FEA\\.conda\\envs\\py37\\lib\\site-packages\\sklearn\\metrics\\pairwise.py:304: RuntimeWarning: invalid value encountered in add\n",
      "  distances += XX\n",
      "C:\\Users\\ARASH-FEA\\.conda\\envs\\py37\\lib\\site-packages\\sklearn\\utils\\extmath.py:151: RuntimeWarning: overflow encountered in matmul\n",
      "  ret = a @ b\n",
      "C:\\Users\\ARASH-FEA\\.conda\\envs\\py37\\lib\\site-packages\\sklearn\\metrics\\pairwise.py:304: RuntimeWarning: invalid value encountered in add\n",
      "  distances += XX\n",
      "C:\\Users\\ARASH-FEA\\.conda\\envs\\py37\\lib\\site-packages\\sklearn\\utils\\extmath.py:151: RuntimeWarning: overflow encountered in matmul\n",
      "  ret = a @ b\n",
      "C:\\Users\\ARASH-FEA\\.conda\\envs\\py37\\lib\\site-packages\\sklearn\\utils\\extmath.py:151: RuntimeWarning: overflow encountered in matmul\n",
      "  ret = a @ b\n",
      "C:\\Users\\ARASH-FEA\\.conda\\envs\\py37\\lib\\site-packages\\sklearn\\metrics\\pairwise.py:304: RuntimeWarning: invalid value encountered in add\n",
      "  distances += XX\n",
      "C:\\Users\\ARASH-FEA\\.conda\\envs\\py37\\lib\\site-packages\\sklearn\\utils\\extmath.py:151: RuntimeWarning: overflow encountered in matmul\n",
      "  ret = a @ b\n",
      "C:\\Users\\ARASH-FEA\\.conda\\envs\\py37\\lib\\site-packages\\sklearn\\metrics\\pairwise.py:304: RuntimeWarning: invalid value encountered in add\n",
      "  distances += XX\n",
      "C:\\Users\\ARASH-FEA\\.conda\\envs\\py37\\lib\\site-packages\\sklearn\\utils\\extmath.py:151: RuntimeWarning: overflow encountered in matmul\n",
      "  ret = a @ b\n",
      "C:\\Users\\ARASH-FEA\\.conda\\envs\\py37\\lib\\site-packages\\sklearn\\metrics\\pairwise.py:304: RuntimeWarning: invalid value encountered in add\n",
      "  distances += XX\n",
      "C:\\Users\\ARASH-FEA\\.conda\\envs\\py37\\lib\\site-packages\\sklearn\\utils\\extmath.py:151: RuntimeWarning: overflow encountered in matmul\n",
      "  ret = a @ b\n",
      "C:\\Users\\ARASH-FEA\\.conda\\envs\\py37\\lib\\site-packages\\sklearn\\metrics\\pairwise.py:304: RuntimeWarning: invalid value encountered in add\n",
      "  distances += XX\n",
      "C:\\Users\\ARASH-FEA\\.conda\\envs\\py37\\lib\\site-packages\\sklearn\\cluster\\_kmeans.py:322: RuntimeWarning: overflow encountered in square\n",
      "  max_iter=max_iter, verbose=verbose)\n",
      "C:\\Users\\ARASH-FEA\\.conda\\envs\\py37\\lib\\site-packages\\sklearn\\utils\\extmath.py:151: RuntimeWarning: overflow encountered in matmul\n",
      "  ret = a @ b\n",
      "C:\\Users\\ARASH-FEA\\.conda\\envs\\py37\\lib\\site-packages\\sklearn\\metrics\\pairwise.py:304: RuntimeWarning: invalid value encountered in add\n",
      "  distances += XX\n",
      "C:\\Users\\ARASH-FEA\\.conda\\envs\\py37\\lib\\site-packages\\sklearn\\cluster\\_kmeans.py:322: RuntimeWarning: overflow encountered in square\n",
      "  max_iter=max_iter, verbose=verbose)\n",
      "C:\\Users\\ARASH-FEA\\.conda\\envs\\py37\\lib\\site-packages\\sklearn\\cluster\\_kmeans.py:322: RuntimeWarning: invalid value encountered in subtract\n",
      "  max_iter=max_iter, verbose=verbose)\n",
      "C:\\Users\\ARASH-FEA\\.conda\\envs\\py37\\lib\\site-packages\\sklearn\\utils\\extmath.py:151: RuntimeWarning: overflow encountered in matmul\n",
      "  ret = a @ b\n",
      "C:\\Users\\ARASH-FEA\\.conda\\envs\\py37\\lib\\site-packages\\sklearn\\metrics\\pairwise.py:304: RuntimeWarning: invalid value encountered in add\n",
      "  distances += XX\n",
      "C:\\Users\\ARASH-FEA\\.conda\\envs\\py37\\lib\\site-packages\\sklearn\\utils\\extmath.py:151: RuntimeWarning: overflow encountered in matmul\n",
      "  ret = a @ b\n",
      "C:\\Users\\ARASH-FEA\\.conda\\envs\\py37\\lib\\site-packages\\sklearn\\metrics\\pairwise.py:304: RuntimeWarning: invalid value encountered in add\n",
      "  distances += XX\n",
      "C:\\Users\\ARASH-FEA\\.conda\\envs\\py37\\lib\\site-packages\\sklearn\\utils\\extmath.py:151: RuntimeWarning: overflow encountered in matmul\n",
      "  ret = a @ b\n",
      "C:\\Users\\ARASH-FEA\\.conda\\envs\\py37\\lib\\site-packages\\sklearn\\utils\\extmath.py:151: RuntimeWarning: overflow encountered in matmul\n",
      "  ret = a @ b\n",
      "C:\\Users\\ARASH-FEA\\.conda\\envs\\py37\\lib\\site-packages\\sklearn\\metrics\\pairwise.py:304: RuntimeWarning: invalid value encountered in add\n",
      "  distances += XX\n",
      "C:\\Users\\ARASH-FEA\\.conda\\envs\\py37\\lib\\site-packages\\sklearn\\utils\\extmath.py:151: RuntimeWarning: overflow encountered in matmul\n",
      "  ret = a @ b\n",
      "C:\\Users\\ARASH-FEA\\.conda\\envs\\py37\\lib\\site-packages\\sklearn\\metrics\\pairwise.py:304: RuntimeWarning: invalid value encountered in add\n",
      "  distances += XX\n",
      "C:\\Users\\ARASH-FEA\\.conda\\envs\\py37\\lib\\site-packages\\sklearn\\utils\\extmath.py:151: RuntimeWarning: overflow encountered in matmul\n",
      "  ret = a @ b\n",
      "C:\\Users\\ARASH-FEA\\.conda\\envs\\py37\\lib\\site-packages\\sklearn\\metrics\\pairwise.py:304: RuntimeWarning: invalid value encountered in add\n",
      "  distances += XX\n",
      "C:\\Users\\ARASH-FEA\\.conda\\envs\\py37\\lib\\site-packages\\sklearn\\utils\\extmath.py:151: RuntimeWarning: overflow encountered in matmul\n",
      "  ret = a @ b\n",
      "C:\\Users\\ARASH-FEA\\.conda\\envs\\py37\\lib\\site-packages\\sklearn\\metrics\\pairwise.py:304: RuntimeWarning: invalid value encountered in add\n",
      "  distances += XX\n",
      "C:\\Users\\ARASH-FEA\\.conda\\envs\\py37\\lib\\site-packages\\sklearn\\cluster\\_kmeans.py:322: RuntimeWarning: overflow encountered in square\n",
      "  max_iter=max_iter, verbose=verbose)\n",
      "C:\\Users\\ARASH-FEA\\.conda\\envs\\py37\\lib\\site-packages\\sklearn\\utils\\extmath.py:151: RuntimeWarning: overflow encountered in matmul\n",
      "  ret = a @ b\n",
      "C:\\Users\\ARASH-FEA\\.conda\\envs\\py37\\lib\\site-packages\\sklearn\\metrics\\pairwise.py:304: RuntimeWarning: invalid value encountered in add\n",
      "  distances += XX\n",
      "C:\\Users\\ARASH-FEA\\.conda\\envs\\py37\\lib\\site-packages\\sklearn\\cluster\\_kmeans.py:322: RuntimeWarning: overflow encountered in square\n",
      "  max_iter=max_iter, verbose=verbose)\n",
      "C:\\Users\\ARASH-FEA\\.conda\\envs\\py37\\lib\\site-packages\\sklearn\\cluster\\_kmeans.py:322: RuntimeWarning: invalid value encountered in subtract\n",
      "  max_iter=max_iter, verbose=verbose)\n",
      "C:\\Users\\ARASH-FEA\\.conda\\envs\\py37\\lib\\site-packages\\sklearn\\utils\\extmath.py:151: RuntimeWarning: overflow encountered in matmul\n",
      "  ret = a @ b\n",
      "C:\\Users\\ARASH-FEA\\.conda\\envs\\py37\\lib\\site-packages\\sklearn\\metrics\\pairwise.py:304: RuntimeWarning: invalid value encountered in add\n",
      "  distances += XX\n",
      "C:\\Users\\ARASH-FEA\\.conda\\envs\\py37\\lib\\site-packages\\sklearn\\utils\\extmath.py:151: RuntimeWarning: overflow encountered in matmul\n",
      "  ret = a @ b\n",
      "C:\\Users\\ARASH-FEA\\.conda\\envs\\py37\\lib\\site-packages\\sklearn\\metrics\\pairwise.py:304: RuntimeWarning: invalid value encountered in add\n",
      "  distances += XX\n",
      "C:\\Users\\ARASH-FEA\\.conda\\envs\\py37\\lib\\site-packages\\sklearn\\utils\\extmath.py:151: RuntimeWarning: overflow encountered in matmul\n",
      "  ret = a @ b\n",
      "C:\\Users\\ARASH-FEA\\.conda\\envs\\py37\\lib\\site-packages\\sklearn\\utils\\extmath.py:151: RuntimeWarning: overflow encountered in matmul\n",
      "  ret = a @ b\n",
      "C:\\Users\\ARASH-FEA\\.conda\\envs\\py37\\lib\\site-packages\\sklearn\\metrics\\pairwise.py:304: RuntimeWarning: invalid value encountered in add\n",
      "  distances += XX\n",
      "C:\\Users\\ARASH-FEA\\.conda\\envs\\py37\\lib\\site-packages\\sklearn\\utils\\extmath.py:151: RuntimeWarning: overflow encountered in matmul\n",
      "  ret = a @ b\n",
      "C:\\Users\\ARASH-FEA\\.conda\\envs\\py37\\lib\\site-packages\\sklearn\\metrics\\pairwise.py:304: RuntimeWarning: invalid value encountered in add\n",
      "  distances += XX\n",
      "C:\\Users\\ARASH-FEA\\.conda\\envs\\py37\\lib\\site-packages\\sklearn\\utils\\extmath.py:151: RuntimeWarning: overflow encountered in matmul\n",
      "  ret = a @ b\n",
      "C:\\Users\\ARASH-FEA\\.conda\\envs\\py37\\lib\\site-packages\\sklearn\\metrics\\pairwise.py:304: RuntimeWarning: invalid value encountered in add\n",
      "  distances += XX\n",
      "C:\\Users\\ARASH-FEA\\.conda\\envs\\py37\\lib\\site-packages\\sklearn\\utils\\extmath.py:151: RuntimeWarning: overflow encountered in matmul\n",
      "  ret = a @ b\n",
      "C:\\Users\\ARASH-FEA\\.conda\\envs\\py37\\lib\\site-packages\\sklearn\\metrics\\pairwise.py:304: RuntimeWarning: invalid value encountered in add\n",
      "  distances += XX\n",
      "C:\\Users\\ARASH-FEA\\.conda\\envs\\py37\\lib\\site-packages\\sklearn\\cluster\\_kmeans.py:322: RuntimeWarning: overflow encountered in square\n",
      "  max_iter=max_iter, verbose=verbose)\n",
      "C:\\Users\\ARASH-FEA\\.conda\\envs\\py37\\lib\\site-packages\\sklearn\\utils\\extmath.py:151: RuntimeWarning: overflow encountered in matmul\n",
      "  ret = a @ b\n",
      "C:\\Users\\ARASH-FEA\\.conda\\envs\\py37\\lib\\site-packages\\sklearn\\metrics\\pairwise.py:304: RuntimeWarning: invalid value encountered in add\n",
      "  distances += XX\n",
      "C:\\Users\\ARASH-FEA\\.conda\\envs\\py37\\lib\\site-packages\\sklearn\\cluster\\_kmeans.py:322: RuntimeWarning: overflow encountered in square\n",
      "  max_iter=max_iter, verbose=verbose)\n",
      "C:\\Users\\ARASH-FEA\\.conda\\envs\\py37\\lib\\site-packages\\sklearn\\cluster\\_kmeans.py:322: RuntimeWarning: invalid value encountered in subtract\n",
      "  max_iter=max_iter, verbose=verbose)\n",
      "C:\\Users\\ARASH-FEA\\.conda\\envs\\py37\\lib\\site-packages\\sklearn\\utils\\extmath.py:151: RuntimeWarning: overflow encountered in matmul\n",
      "  ret = a @ b\n",
      "C:\\Users\\ARASH-FEA\\.conda\\envs\\py37\\lib\\site-packages\\sklearn\\metrics\\pairwise.py:304: RuntimeWarning: invalid value encountered in add\n",
      "  distances += XX\n",
      "C:\\Users\\ARASH-FEA\\.conda\\envs\\py37\\lib\\site-packages\\sklearn\\utils\\extmath.py:151: RuntimeWarning: overflow encountered in matmul\n",
      "  ret = a @ b\n",
      "C:\\Users\\ARASH-FEA\\.conda\\envs\\py37\\lib\\site-packages\\sklearn\\metrics\\pairwise.py:304: RuntimeWarning: invalid value encountered in add\n",
      "  distances += XX\n",
      "C:\\Users\\ARASH-FEA\\.conda\\envs\\py37\\lib\\site-packages\\sklearn\\utils\\extmath.py:151: RuntimeWarning: overflow encountered in matmul\n",
      "  ret = a @ b\n",
      "C:\\Users\\ARASH-FEA\\.conda\\envs\\py37\\lib\\site-packages\\sklearn\\utils\\extmath.py:151: RuntimeWarning: overflow encountered in matmul\n",
      "  ret = a @ b\n",
      "C:\\Users\\ARASH-FEA\\.conda\\envs\\py37\\lib\\site-packages\\sklearn\\metrics\\pairwise.py:304: RuntimeWarning: invalid value encountered in add\n",
      "  distances += XX\n",
      "C:\\Users\\ARASH-FEA\\.conda\\envs\\py37\\lib\\site-packages\\sklearn\\utils\\extmath.py:151: RuntimeWarning: overflow encountered in matmul\n",
      "  ret = a @ b\n",
      "C:\\Users\\ARASH-FEA\\.conda\\envs\\py37\\lib\\site-packages\\sklearn\\metrics\\pairwise.py:304: RuntimeWarning: invalid value encountered in add\n",
      "  distances += XX\n",
      "C:\\Users\\ARASH-FEA\\.conda\\envs\\py37\\lib\\site-packages\\sklearn\\utils\\extmath.py:151: RuntimeWarning: overflow encountered in matmul\n",
      "  ret = a @ b\n",
      "C:\\Users\\ARASH-FEA\\.conda\\envs\\py37\\lib\\site-packages\\sklearn\\metrics\\pairwise.py:304: RuntimeWarning: invalid value encountered in add\n",
      "  distances += XX\n",
      "C:\\Users\\ARASH-FEA\\.conda\\envs\\py37\\lib\\site-packages\\sklearn\\utils\\extmath.py:151: RuntimeWarning: overflow encountered in matmul\n",
      "  ret = a @ b\n",
      "C:\\Users\\ARASH-FEA\\.conda\\envs\\py37\\lib\\site-packages\\sklearn\\metrics\\pairwise.py:304: RuntimeWarning: invalid value encountered in add\n",
      "  distances += XX\n",
      "C:\\Users\\ARASH-FEA\\.conda\\envs\\py37\\lib\\site-packages\\sklearn\\cluster\\_kmeans.py:322: RuntimeWarning: overflow encountered in square\n",
      "  max_iter=max_iter, verbose=verbose)\n",
      "C:\\Users\\ARASH-FEA\\.conda\\envs\\py37\\lib\\site-packages\\sklearn\\utils\\extmath.py:151: RuntimeWarning: overflow encountered in matmul\n",
      "  ret = a @ b\n",
      "C:\\Users\\ARASH-FEA\\.conda\\envs\\py37\\lib\\site-packages\\sklearn\\metrics\\pairwise.py:304: RuntimeWarning: invalid value encountered in add\n",
      "  distances += XX\n",
      "C:\\Users\\ARASH-FEA\\.conda\\envs\\py37\\lib\\site-packages\\sklearn\\cluster\\_kmeans.py:322: RuntimeWarning: overflow encountered in square\n",
      "  max_iter=max_iter, verbose=verbose)\n",
      "C:\\Users\\ARASH-FEA\\.conda\\envs\\py37\\lib\\site-packages\\sklearn\\cluster\\_kmeans.py:322: RuntimeWarning: invalid value encountered in subtract\n",
      "  max_iter=max_iter, verbose=verbose)\n",
      "C:\\Users\\ARASH-FEA\\.conda\\envs\\py37\\lib\\site-packages\\sklearn\\utils\\extmath.py:151: RuntimeWarning: overflow encountered in matmul\n",
      "  ret = a @ b\n",
      "C:\\Users\\ARASH-FEA\\.conda\\envs\\py37\\lib\\site-packages\\sklearn\\metrics\\pairwise.py:304: RuntimeWarning: invalid value encountered in add\n",
      "  distances += XX\n",
      "C:\\Users\\ARASH-FEA\\.conda\\envs\\py37\\lib\\site-packages\\sklearn\\utils\\extmath.py:151: RuntimeWarning: overflow encountered in matmul\n",
      "  ret = a @ b\n",
      "C:\\Users\\ARASH-FEA\\.conda\\envs\\py37\\lib\\site-packages\\sklearn\\metrics\\pairwise.py:304: RuntimeWarning: invalid value encountered in add\n",
      "  distances += XX\n",
      "C:\\Users\\ARASH-FEA\\.conda\\envs\\py37\\lib\\site-packages\\sklearn\\utils\\extmath.py:151: RuntimeWarning: overflow encountered in matmul\n",
      "  ret = a @ b\n",
      "C:\\Users\\ARASH-FEA\\.conda\\envs\\py37\\lib\\site-packages\\sklearn\\utils\\extmath.py:151: RuntimeWarning: overflow encountered in matmul\n",
      "  ret = a @ b\n",
      "C:\\Users\\ARASH-FEA\\.conda\\envs\\py37\\lib\\site-packages\\sklearn\\metrics\\pairwise.py:304: RuntimeWarning: invalid value encountered in add\n",
      "  distances += XX\n",
      "C:\\Users\\ARASH-FEA\\.conda\\envs\\py37\\lib\\site-packages\\sklearn\\utils\\extmath.py:151: RuntimeWarning: overflow encountered in matmul\n",
      "  ret = a @ b\n",
      "C:\\Users\\ARASH-FEA\\.conda\\envs\\py37\\lib\\site-packages\\sklearn\\metrics\\pairwise.py:304: RuntimeWarning: invalid value encountered in add\n",
      "  distances += XX\n",
      "C:\\Users\\ARASH-FEA\\.conda\\envs\\py37\\lib\\site-packages\\sklearn\\utils\\extmath.py:151: RuntimeWarning: overflow encountered in matmul\n",
      "  ret = a @ b\n",
      "C:\\Users\\ARASH-FEA\\.conda\\envs\\py37\\lib\\site-packages\\sklearn\\metrics\\pairwise.py:304: RuntimeWarning: invalid value encountered in add\n",
      "  distances += XX\n",
      "C:\\Users\\ARASH-FEA\\.conda\\envs\\py37\\lib\\site-packages\\sklearn\\utils\\extmath.py:151: RuntimeWarning: overflow encountered in matmul\n",
      "  ret = a @ b\n",
      "C:\\Users\\ARASH-FEA\\.conda\\envs\\py37\\lib\\site-packages\\sklearn\\metrics\\pairwise.py:304: RuntimeWarning: invalid value encountered in add\n",
      "  distances += XX\n",
      "C:\\Users\\ARASH-FEA\\.conda\\envs\\py37\\lib\\site-packages\\sklearn\\cluster\\_kmeans.py:322: RuntimeWarning: overflow encountered in square\n",
      "  max_iter=max_iter, verbose=verbose)\n",
      "C:\\Users\\ARASH-FEA\\.conda\\envs\\py37\\lib\\site-packages\\sklearn\\utils\\extmath.py:151: RuntimeWarning: overflow encountered in matmul\n",
      "  ret = a @ b\n",
      "C:\\Users\\ARASH-FEA\\.conda\\envs\\py37\\lib\\site-packages\\sklearn\\metrics\\pairwise.py:304: RuntimeWarning: invalid value encountered in add\n",
      "  distances += XX\n",
      "C:\\Users\\ARASH-FEA\\.conda\\envs\\py37\\lib\\site-packages\\sklearn\\cluster\\_kmeans.py:322: RuntimeWarning: overflow encountered in square\n",
      "  max_iter=max_iter, verbose=verbose)\n",
      "C:\\Users\\ARASH-FEA\\.conda\\envs\\py37\\lib\\site-packages\\sklearn\\cluster\\_kmeans.py:322: RuntimeWarning: invalid value encountered in subtract\n",
      "  max_iter=max_iter, verbose=verbose)\n",
      "C:\\Users\\ARASH-FEA\\.conda\\envs\\py37\\lib\\site-packages\\sklearn\\utils\\extmath.py:151: RuntimeWarning: overflow encountered in matmul\n",
      "  ret = a @ b\n",
      "C:\\Users\\ARASH-FEA\\.conda\\envs\\py37\\lib\\site-packages\\sklearn\\metrics\\pairwise.py:304: RuntimeWarning: invalid value encountered in add\n",
      "  distances += XX\n",
      "C:\\Users\\ARASH-FEA\\.conda\\envs\\py37\\lib\\site-packages\\sklearn\\utils\\extmath.py:151: RuntimeWarning: overflow encountered in matmul\n",
      "  ret = a @ b\n",
      "C:\\Users\\ARASH-FEA\\.conda\\envs\\py37\\lib\\site-packages\\sklearn\\metrics\\pairwise.py:304: RuntimeWarning: invalid value encountered in add\n",
      "  distances += XX\n",
      "C:\\Users\\ARASH-FEA\\.conda\\envs\\py37\\lib\\site-packages\\sklearn\\utils\\extmath.py:151: RuntimeWarning: overflow encountered in matmul\n",
      "  ret = a @ b\n",
      "C:\\Users\\ARASH-FEA\\.conda\\envs\\py37\\lib\\site-packages\\sklearn\\utils\\extmath.py:151: RuntimeWarning: overflow encountered in matmul\n",
      "  ret = a @ b\n",
      "C:\\Users\\ARASH-FEA\\.conda\\envs\\py37\\lib\\site-packages\\sklearn\\metrics\\pairwise.py:304: RuntimeWarning: invalid value encountered in add\n",
      "  distances += XX\n",
      "C:\\Users\\ARASH-FEA\\.conda\\envs\\py37\\lib\\site-packages\\sklearn\\utils\\extmath.py:151: RuntimeWarning: overflow encountered in matmul\n",
      "  ret = a @ b\n",
      "C:\\Users\\ARASH-FEA\\.conda\\envs\\py37\\lib\\site-packages\\sklearn\\metrics\\pairwise.py:304: RuntimeWarning: invalid value encountered in add\n",
      "  distances += XX\n",
      "C:\\Users\\ARASH-FEA\\.conda\\envs\\py37\\lib\\site-packages\\sklearn\\utils\\extmath.py:151: RuntimeWarning: overflow encountered in matmul\n",
      "  ret = a @ b\n",
      "C:\\Users\\ARASH-FEA\\.conda\\envs\\py37\\lib\\site-packages\\sklearn\\metrics\\pairwise.py:304: RuntimeWarning: invalid value encountered in add\n",
      "  distances += XX\n",
      "C:\\Users\\ARASH-FEA\\.conda\\envs\\py37\\lib\\site-packages\\sklearn\\utils\\extmath.py:151: RuntimeWarning: overflow encountered in matmul\n",
      "  ret = a @ b\n",
      "C:\\Users\\ARASH-FEA\\.conda\\envs\\py37\\lib\\site-packages\\sklearn\\metrics\\pairwise.py:304: RuntimeWarning: invalid value encountered in add\n",
      "  distances += XX\n",
      "C:\\Users\\ARASH-FEA\\.conda\\envs\\py37\\lib\\site-packages\\sklearn\\cluster\\_kmeans.py:322: RuntimeWarning: overflow encountered in square\n",
      "  max_iter=max_iter, verbose=verbose)\n",
      "C:\\Users\\ARASH-FEA\\.conda\\envs\\py37\\lib\\site-packages\\sklearn\\utils\\extmath.py:151: RuntimeWarning: overflow encountered in matmul\n",
      "  ret = a @ b\n",
      "C:\\Users\\ARASH-FEA\\.conda\\envs\\py37\\lib\\site-packages\\sklearn\\metrics\\pairwise.py:304: RuntimeWarning: invalid value encountered in add\n",
      "  distances += XX\n",
      "C:\\Users\\ARASH-FEA\\.conda\\envs\\py37\\lib\\site-packages\\sklearn\\cluster\\_kmeans.py:322: RuntimeWarning: overflow encountered in square\n",
      "  max_iter=max_iter, verbose=verbose)\n",
      "C:\\Users\\ARASH-FEA\\.conda\\envs\\py37\\lib\\site-packages\\sklearn\\cluster\\_kmeans.py:322: RuntimeWarning: invalid value encountered in subtract\n",
      "  max_iter=max_iter, verbose=verbose)\n",
      "C:\\Users\\ARASH-FEA\\.conda\\envs\\py37\\lib\\site-packages\\sklearn\\utils\\extmath.py:151: RuntimeWarning: overflow encountered in matmul\n",
      "  ret = a @ b\n",
      "C:\\Users\\ARASH-FEA\\.conda\\envs\\py37\\lib\\site-packages\\sklearn\\metrics\\pairwise.py:304: RuntimeWarning: invalid value encountered in add\n",
      "  distances += XX\n",
      "C:\\Users\\ARASH-FEA\\.conda\\envs\\py37\\lib\\site-packages\\sklearn\\utils\\extmath.py:151: RuntimeWarning: overflow encountered in matmul\n",
      "  ret = a @ b\n",
      "C:\\Users\\ARASH-FEA\\.conda\\envs\\py37\\lib\\site-packages\\sklearn\\metrics\\pairwise.py:304: RuntimeWarning: invalid value encountered in add\n",
      "  distances += XX\n",
      "C:\\Users\\ARASH-FEA\\.conda\\envs\\py37\\lib\\site-packages\\sklearn\\utils\\extmath.py:151: RuntimeWarning: overflow encountered in matmul\n",
      "  ret = a @ b\n",
      "C:\\Users\\ARASH-FEA\\.conda\\envs\\py37\\lib\\site-packages\\sklearn\\utils\\extmath.py:151: RuntimeWarning: overflow encountered in matmul\n",
      "  ret = a @ b\n",
      "C:\\Users\\ARASH-FEA\\.conda\\envs\\py37\\lib\\site-packages\\sklearn\\metrics\\pairwise.py:304: RuntimeWarning: invalid value encountered in add\n",
      "  distances += XX\n",
      "C:\\Users\\ARASH-FEA\\.conda\\envs\\py37\\lib\\site-packages\\sklearn\\utils\\extmath.py:151: RuntimeWarning: overflow encountered in matmul\n",
      "  ret = a @ b\n",
      "C:\\Users\\ARASH-FEA\\.conda\\envs\\py37\\lib\\site-packages\\sklearn\\metrics\\pairwise.py:304: RuntimeWarning: invalid value encountered in add\n",
      "  distances += XX\n",
      "C:\\Users\\ARASH-FEA\\.conda\\envs\\py37\\lib\\site-packages\\sklearn\\utils\\extmath.py:151: RuntimeWarning: overflow encountered in matmul\n",
      "  ret = a @ b\n",
      "C:\\Users\\ARASH-FEA\\.conda\\envs\\py37\\lib\\site-packages\\sklearn\\metrics\\pairwise.py:304: RuntimeWarning: invalid value encountered in add\n",
      "  distances += XX\n",
      "C:\\Users\\ARASH-FEA\\.conda\\envs\\py37\\lib\\site-packages\\sklearn\\utils\\extmath.py:151: RuntimeWarning: overflow encountered in matmul\n",
      "  ret = a @ b\n",
      "C:\\Users\\ARASH-FEA\\.conda\\envs\\py37\\lib\\site-packages\\sklearn\\metrics\\pairwise.py:304: RuntimeWarning: invalid value encountered in add\n",
      "  distances += XX\n",
      "C:\\Users\\ARASH-FEA\\.conda\\envs\\py37\\lib\\site-packages\\sklearn\\cluster\\_kmeans.py:322: RuntimeWarning: overflow encountered in square\n",
      "  max_iter=max_iter, verbose=verbose)\n",
      "C:\\Users\\ARASH-FEA\\.conda\\envs\\py37\\lib\\site-packages\\sklearn\\utils\\extmath.py:151: RuntimeWarning: overflow encountered in matmul\n",
      "  ret = a @ b\n",
      "C:\\Users\\ARASH-FEA\\.conda\\envs\\py37\\lib\\site-packages\\sklearn\\metrics\\pairwise.py:304: RuntimeWarning: invalid value encountered in add\n",
      "  distances += XX\n",
      "C:\\Users\\ARASH-FEA\\.conda\\envs\\py37\\lib\\site-packages\\sklearn\\cluster\\_kmeans.py:322: RuntimeWarning: overflow encountered in square\n",
      "  max_iter=max_iter, verbose=verbose)\n",
      "C:\\Users\\ARASH-FEA\\.conda\\envs\\py37\\lib\\site-packages\\sklearn\\cluster\\_kmeans.py:322: RuntimeWarning: invalid value encountered in subtract\n",
      "  max_iter=max_iter, verbose=verbose)\n",
      "C:\\Users\\ARASH-FEA\\.conda\\envs\\py37\\lib\\site-packages\\sklearn\\utils\\extmath.py:151: RuntimeWarning: overflow encountered in matmul\n",
      "  ret = a @ b\n",
      "C:\\Users\\ARASH-FEA\\.conda\\envs\\py37\\lib\\site-packages\\sklearn\\metrics\\pairwise.py:304: RuntimeWarning: invalid value encountered in add\n",
      "  distances += XX\n",
      "C:\\Users\\ARASH-FEA\\.conda\\envs\\py37\\lib\\site-packages\\sklearn\\utils\\extmath.py:151: RuntimeWarning: overflow encountered in matmul\n",
      "  ret = a @ b\n",
      "C:\\Users\\ARASH-FEA\\.conda\\envs\\py37\\lib\\site-packages\\sklearn\\metrics\\pairwise.py:304: RuntimeWarning: invalid value encountered in add\n",
      "  distances += XX\n",
      "C:\\Users\\ARASH-FEA\\.conda\\envs\\py37\\lib\\site-packages\\sklearn\\utils\\extmath.py:151: RuntimeWarning: overflow encountered in matmul\n",
      "  ret = a @ b\n",
      "C:\\Users\\ARASH-FEA\\.conda\\envs\\py37\\lib\\site-packages\\sklearn\\utils\\extmath.py:151: RuntimeWarning: overflow encountered in matmul\n",
      "  ret = a @ b\n",
      "C:\\Users\\ARASH-FEA\\.conda\\envs\\py37\\lib\\site-packages\\sklearn\\metrics\\pairwise.py:304: RuntimeWarning: invalid value encountered in add\n",
      "  distances += XX\n",
      "C:\\Users\\ARASH-FEA\\.conda\\envs\\py37\\lib\\site-packages\\sklearn\\utils\\extmath.py:151: RuntimeWarning: overflow encountered in matmul\n",
      "  ret = a @ b\n",
      "C:\\Users\\ARASH-FEA\\.conda\\envs\\py37\\lib\\site-packages\\sklearn\\metrics\\pairwise.py:304: RuntimeWarning: invalid value encountered in add\n",
      "  distances += XX\n",
      "C:\\Users\\ARASH-FEA\\.conda\\envs\\py37\\lib\\site-packages\\sklearn\\utils\\extmath.py:151: RuntimeWarning: overflow encountered in matmul\n",
      "  ret = a @ b\n",
      "C:\\Users\\ARASH-FEA\\.conda\\envs\\py37\\lib\\site-packages\\sklearn\\metrics\\pairwise.py:304: RuntimeWarning: invalid value encountered in add\n",
      "  distances += XX\n",
      "C:\\Users\\ARASH-FEA\\.conda\\envs\\py37\\lib\\site-packages\\sklearn\\utils\\extmath.py:151: RuntimeWarning: overflow encountered in matmul\n",
      "  ret = a @ b\n",
      "C:\\Users\\ARASH-FEA\\.conda\\envs\\py37\\lib\\site-packages\\sklearn\\metrics\\pairwise.py:304: RuntimeWarning: invalid value encountered in add\n",
      "  distances += XX\n",
      "C:\\Users\\ARASH-FEA\\.conda\\envs\\py37\\lib\\site-packages\\sklearn\\cluster\\_kmeans.py:322: RuntimeWarning: overflow encountered in square\n",
      "  max_iter=max_iter, verbose=verbose)\n",
      "C:\\Users\\ARASH-FEA\\.conda\\envs\\py37\\lib\\site-packages\\sklearn\\utils\\extmath.py:151: RuntimeWarning: overflow encountered in matmul\n",
      "  ret = a @ b\n",
      "C:\\Users\\ARASH-FEA\\.conda\\envs\\py37\\lib\\site-packages\\sklearn\\metrics\\pairwise.py:304: RuntimeWarning: invalid value encountered in add\n",
      "  distances += XX\n",
      "C:\\Users\\ARASH-FEA\\.conda\\envs\\py37\\lib\\site-packages\\sklearn\\cluster\\_kmeans.py:322: RuntimeWarning: overflow encountered in square\n",
      "  max_iter=max_iter, verbose=verbose)\n",
      "C:\\Users\\ARASH-FEA\\.conda\\envs\\py37\\lib\\site-packages\\sklearn\\cluster\\_kmeans.py:322: RuntimeWarning: invalid value encountered in subtract\n",
      "  max_iter=max_iter, verbose=verbose)\n",
      "C:\\Users\\ARASH-FEA\\.conda\\envs\\py37\\lib\\site-packages\\sklearn\\utils\\extmath.py:151: RuntimeWarning: overflow encountered in matmul\n",
      "  ret = a @ b\n",
      "C:\\Users\\ARASH-FEA\\.conda\\envs\\py37\\lib\\site-packages\\sklearn\\metrics\\pairwise.py:304: RuntimeWarning: invalid value encountered in add\n",
      "  distances += XX\n",
      "C:\\Users\\ARASH-FEA\\.conda\\envs\\py37\\lib\\site-packages\\sklearn\\utils\\extmath.py:151: RuntimeWarning: overflow encountered in matmul\n",
      "  ret = a @ b\n",
      "C:\\Users\\ARASH-FEA\\.conda\\envs\\py37\\lib\\site-packages\\sklearn\\metrics\\pairwise.py:304: RuntimeWarning: invalid value encountered in add\n",
      "  distances += XX\n",
      "C:\\Users\\ARASH-FEA\\.conda\\envs\\py37\\lib\\site-packages\\sklearn\\utils\\extmath.py:151: RuntimeWarning: overflow encountered in matmul\n",
      "  ret = a @ b\n",
      "C:\\Users\\ARASH-FEA\\.conda\\envs\\py37\\lib\\site-packages\\sklearn\\utils\\extmath.py:151: RuntimeWarning: overflow encountered in matmul\n",
      "  ret = a @ b\n",
      "C:\\Users\\ARASH-FEA\\.conda\\envs\\py37\\lib\\site-packages\\sklearn\\metrics\\pairwise.py:304: RuntimeWarning: invalid value encountered in add\n",
      "  distances += XX\n",
      "C:\\Users\\ARASH-FEA\\.conda\\envs\\py37\\lib\\site-packages\\sklearn\\utils\\extmath.py:151: RuntimeWarning: overflow encountered in matmul\n",
      "  ret = a @ b\n",
      "C:\\Users\\ARASH-FEA\\.conda\\envs\\py37\\lib\\site-packages\\sklearn\\metrics\\pairwise.py:304: RuntimeWarning: invalid value encountered in add\n",
      "  distances += XX\n",
      "C:\\Users\\ARASH-FEA\\.conda\\envs\\py37\\lib\\site-packages\\sklearn\\utils\\extmath.py:151: RuntimeWarning: overflow encountered in matmul\n",
      "  ret = a @ b\n",
      "C:\\Users\\ARASH-FEA\\.conda\\envs\\py37\\lib\\site-packages\\sklearn\\metrics\\pairwise.py:304: RuntimeWarning: invalid value encountered in add\n",
      "  distances += XX\n",
      "C:\\Users\\ARASH-FEA\\.conda\\envs\\py37\\lib\\site-packages\\sklearn\\utils\\extmath.py:151: RuntimeWarning: overflow encountered in matmul\n",
      "  ret = a @ b\n",
      "C:\\Users\\ARASH-FEA\\.conda\\envs\\py37\\lib\\site-packages\\sklearn\\metrics\\pairwise.py:304: RuntimeWarning: invalid value encountered in add\n",
      "  distances += XX\n",
      "C:\\Users\\ARASH-FEA\\.conda\\envs\\py37\\lib\\site-packages\\sklearn\\cluster\\_kmeans.py:322: RuntimeWarning: overflow encountered in square\n",
      "  max_iter=max_iter, verbose=verbose)\n",
      "C:\\Users\\ARASH-FEA\\.conda\\envs\\py37\\lib\\site-packages\\sklearn\\utils\\extmath.py:151: RuntimeWarning: overflow encountered in matmul\n",
      "  ret = a @ b\n",
      "C:\\Users\\ARASH-FEA\\.conda\\envs\\py37\\lib\\site-packages\\sklearn\\metrics\\pairwise.py:304: RuntimeWarning: invalid value encountered in add\n",
      "  distances += XX\n",
      "C:\\Users\\ARASH-FEA\\.conda\\envs\\py37\\lib\\site-packages\\sklearn\\cluster\\_kmeans.py:322: RuntimeWarning: overflow encountered in square\n",
      "  max_iter=max_iter, verbose=verbose)\n",
      "C:\\Users\\ARASH-FEA\\.conda\\envs\\py37\\lib\\site-packages\\sklearn\\cluster\\_kmeans.py:322: RuntimeWarning: invalid value encountered in subtract\n",
      "  max_iter=max_iter, verbose=verbose)\n",
      "C:\\Users\\ARASH-FEA\\.conda\\envs\\py37\\lib\\site-packages\\sklearn\\utils\\extmath.py:151: RuntimeWarning: overflow encountered in matmul\n",
      "  ret = a @ b\n",
      "C:\\Users\\ARASH-FEA\\.conda\\envs\\py37\\lib\\site-packages\\sklearn\\metrics\\pairwise.py:304: RuntimeWarning: invalid value encountered in add\n",
      "  distances += XX\n",
      "C:\\Users\\ARASH-FEA\\.conda\\envs\\py37\\lib\\site-packages\\sklearn\\utils\\extmath.py:151: RuntimeWarning: overflow encountered in matmul\n",
      "  ret = a @ b\n",
      "C:\\Users\\ARASH-FEA\\.conda\\envs\\py37\\lib\\site-packages\\sklearn\\metrics\\pairwise.py:304: RuntimeWarning: invalid value encountered in add\n",
      "  distances += XX\n",
      "C:\\Users\\ARASH-FEA\\.conda\\envs\\py37\\lib\\site-packages\\sklearn\\cluster\\_kmeans.py:296: ConvergenceWarning: Number of distinct clusters (2) found smaller than n_clusters (4). Possibly due to duplicate points in X.\n",
      "  ).fit(X, sample_weight=sample_weight)\n"
     ]
    },
    {
     "data": {
      "text/plain": [
       "SpectralClustering(affinity='rbf', assign_labels='kmeans', coef0=1, degree=3,\n",
       "                   eigen_solver=None, eigen_tol=0.0, gamma=1.0,\n",
       "                   kernel_params=None, n_clusters=4, n_components=None,\n",
       "                   n_init=10, n_jobs=None, n_neighbors=10, random_state=None)"
      ]
     },
     "execution_count": 152,
     "metadata": {},
     "output_type": "execute_result"
    }
   ],
   "source": [
    "lr.fit(X_train, y_train)\n",
    "knn.fit(X_train, y_train)\n",
    "tree.fit(X_train, y_train)\n",
    "lgr.fit(X_train, y_train)\n",
    "forest.fit(X_train, y_train)\n",
    "kmeans.fit(X_train, y_train)\n",
    "sp.fit(X_train, y_train)\n",
    "\n"
   ]
  },
  {
   "cell_type": "code",
   "execution_count": 154,
   "metadata": {},
   "outputs": [],
   "source": [
    "s_lr = lr.score(X_test, y_test)\n",
    "s_knn = knn.score(X_test, y_test)\n",
    "s_tree = tree.score(X_test, y_test)\n",
    "s_lgr = lgr.score(X_test, y_test)\n",
    "s_forest = forest.score(X_test, y_test)\n",
    "s_kmean = kmeans.score(X_test, y_test)\n",
    "#s_sp = sp.score(X_test, y_test)\n",
    "\n",
    "model_scores = pd.DataFrame({'LinearRegression':[s_lr],\n",
    "                            'KNeighborsClassifier':[s_knn],\n",
    "                            'DecisionTreeRegressor':[s_tree],\n",
    "                            'LogisticRegression':[s_lgr],\n",
    "                            'RandomForestClassifier':[s_forest],\n",
    "                            'KMeans':[s_kmean]})"
   ]
  },
  {
   "cell_type": "code",
   "execution_count": 160,
   "metadata": {},
   "outputs": [
    {
     "data": {
      "text/html": [
       "<div>\n",
       "<style scoped>\n",
       "    .dataframe tbody tr th:only-of-type {\n",
       "        vertical-align: middle;\n",
       "    }\n",
       "\n",
       "    .dataframe tbody tr th {\n",
       "        vertical-align: top;\n",
       "    }\n",
       "\n",
       "    .dataframe thead th {\n",
       "        text-align: right;\n",
       "    }\n",
       "</style>\n",
       "<table border=\"1\" class=\"dataframe\">\n",
       "  <thead>\n",
       "    <tr style=\"text-align: right;\">\n",
       "      <th></th>\n",
       "      <th>LinearRegression</th>\n",
       "      <th>KNeighborsClassifier</th>\n",
       "      <th>DecisionTreeRegressor</th>\n",
       "      <th>LogisticRegression</th>\n",
       "      <th>RandomForestClassifier</th>\n",
       "      <th>KMeans</th>\n",
       "    </tr>\n",
       "  </thead>\n",
       "  <tbody>\n",
       "    <tr>\n",
       "      <th>0</th>\n",
       "      <td>0.154396</td>\n",
       "      <td>0.44</td>\n",
       "      <td>0.126114</td>\n",
       "      <td>0.5296</td>\n",
       "      <td>0.5248</td>\n",
       "      <td>-9.564998e+07</td>\n",
       "    </tr>\n",
       "  </tbody>\n",
       "</table>\n",
       "</div>"
      ],
      "text/plain": [
       "   LinearRegression  KNeighborsClassifier  DecisionTreeRegressor  \\\n",
       "0          0.154396                  0.44               0.126114   \n",
       "\n",
       "   LogisticRegression  RandomForestClassifier        KMeans  \n",
       "0              0.5296                  0.5248 -9.564998e+07  "
      ]
     },
     "execution_count": 160,
     "metadata": {},
     "output_type": "execute_result"
    }
   ],
   "source": [
    "model_scores"
   ]
  },
  {
   "cell_type": "code",
   "execution_count": 158,
   "metadata": {},
   "outputs": [
    {
     "data": {
      "text/plain": [
       "0.5248"
      ]
     },
     "execution_count": 158,
     "metadata": {},
     "output_type": "execute_result"
    }
   ],
   "source": [
    "knn.score(X_test, y_test)"
   ]
  },
  {
   "cell_type": "code",
   "execution_count": 166,
   "metadata": {},
   "outputs": [
    {
     "data": {
      "text/plain": [
       "4.0    0.5280\n",
       "3.0    0.3504\n",
       "2.0    0.1056\n",
       "1.0    0.0160\n",
       "Name: Credit Ranges, dtype: float64"
      ]
     },
     "execution_count": 166,
     "metadata": {},
     "output_type": "execute_result"
    }
   ],
   "source": [
    "y_test.value_counts(normalize =True )"
   ]
  },
  {
   "cell_type": "code",
   "execution_count": 162,
   "metadata": {},
   "outputs": [
    {
     "data": {
      "text/plain": [
       "([0, 1, 2, 3, 4, 5, 6, 7, 8, 9, 10, 11, 12, 13, 14, 15],\n",
       " <a list of 16 Text xticklabel objects>)"
      ]
     },
     "execution_count": 162,
     "metadata": {},
     "output_type": "execute_result"
    },
    {
     "data": {
      "image/png": "[encoded data removed]",
      "text/plain": [
       "<Figure size 1080x432 with 1 Axes>"
      ]
     },
     "metadata": {},
     "output_type": "display_data"
    }
   ],
   "source": [
    "coef_df = pd.DataFrame({'coefs': lgr.coef_[0], 'feature': X_test.columns})\n",
    "plt.figure(figsize = (15,6))\n",
    "plt.bar(coef_df['feature'], coef_df['coefs'])\n",
    "plt.xticks(rotation =90)"
   ]
  },
  {
   "cell_type": "code",
   "execution_count": 172,
   "metadata": {},
   "outputs": [
    {
     "data": {
      "text/html": [
       "<div>\n",
       "<style scoped>\n",
       "    .dataframe tbody tr th:only-of-type {\n",
       "        vertical-align: middle;\n",
       "    }\n",
       "\n",
       "    .dataframe tbody tr th {\n",
       "        vertical-align: top;\n",
       "    }\n",
       "\n",
       "    .dataframe thead th {\n",
       "        text-align: right;\n",
       "    }\n",
       "</style>\n",
       "<table border=\"1\" class=\"dataframe\">\n",
       "  <thead>\n",
       "    <tr style=\"text-align: right;\">\n",
       "      <th></th>\n",
       "      <th>coefs</th>\n",
       "      <th>feature</th>\n",
       "    </tr>\n",
       "  </thead>\n",
       "  <tbody>\n",
       "    <tr>\n",
       "      <th>5</th>\n",
       "      <td>0.002265</td>\n",
       "      <td>Total Cost</td>\n",
       "    </tr>\n",
       "    <tr>\n",
       "      <th>14</th>\n",
       "      <td>0.001642</td>\n",
       "      <td>INS Client Flag</td>\n",
       "    </tr>\n",
       "    <tr>\n",
       "      <th>8</th>\n",
       "      <td>0.001017</td>\n",
       "      <td>FSV CMSI Flag</td>\n",
       "    </tr>\n",
       "    <tr>\n",
       "      <th>6</th>\n",
       "      <td>0.000272</td>\n",
       "      <td>ERS ENT Count for 3 Years</td>\n",
       "    </tr>\n",
       "    <tr>\n",
       "      <th>12</th>\n",
       "      <td>0.000046</td>\n",
       "      <td>FSV ID Theft Flag</td>\n",
       "    </tr>\n",
       "    <tr>\n",
       "      <th>11</th>\n",
       "      <td>-0.000005</td>\n",
       "      <td>FSV Home Equity Flag</td>\n",
       "    </tr>\n",
       "    <tr>\n",
       "      <th>13</th>\n",
       "      <td>-0.000027</td>\n",
       "      <td>FSV Mortgage Flag</td>\n",
       "    </tr>\n",
       "    <tr>\n",
       "      <th>10</th>\n",
       "      <td>-0.000030</td>\n",
       "      <td>FSV Deposit Program Flag</td>\n",
       "    </tr>\n",
       "    <tr>\n",
       "      <th>9</th>\n",
       "      <td>-0.000463</td>\n",
       "      <td>FSV Credit Card Flag</td>\n",
       "    </tr>\n",
       "    <tr>\n",
       "      <th>15</th>\n",
       "      <td>-0.000637</td>\n",
       "      <td>TRV Globalware Flag</td>\n",
       "    </tr>\n",
       "    <tr>\n",
       "      <th>7</th>\n",
       "      <td>-0.000778</td>\n",
       "      <td>ERS Member Cost for 3 Years</td>\n",
       "    </tr>\n",
       "    <tr>\n",
       "      <th>4</th>\n",
       "      <td>-0.000821</td>\n",
       "      <td>Home Owner</td>\n",
       "    </tr>\n",
       "    <tr>\n",
       "      <th>2</th>\n",
       "      <td>-0.001421</td>\n",
       "      <td>Number of Children</td>\n",
       "    </tr>\n",
       "    <tr>\n",
       "      <th>1</th>\n",
       "      <td>-0.001860</td>\n",
       "      <td>Education</td>\n",
       "    </tr>\n",
       "    <tr>\n",
       "      <th>0</th>\n",
       "      <td>-0.003728</td>\n",
       "      <td>Income</td>\n",
       "    </tr>\n",
       "    <tr>\n",
       "      <th>3</th>\n",
       "      <td>-0.035439</td>\n",
       "      <td>Age</td>\n",
       "    </tr>\n",
       "  </tbody>\n",
       "</table>\n",
       "</div>"
      ],
      "text/plain": [
       "       coefs                      feature\n",
       "5   0.002265                   Total Cost\n",
       "14  0.001642              INS Client Flag\n",
       "8   0.001017                FSV CMSI Flag\n",
       "6   0.000272    ERS ENT Count for 3 Years\n",
       "12  0.000046            FSV ID Theft Flag\n",
       "11 -0.000005         FSV Home Equity Flag\n",
       "13 -0.000027            FSV Mortgage Flag\n",
       "10 -0.000030     FSV Deposit Program Flag\n",
       "9  -0.000463         FSV Credit Card Flag\n",
       "15 -0.000637          TRV Globalware Flag\n",
       "7  -0.000778  ERS Member Cost for 3 Years\n",
       "4  -0.000821                   Home Owner\n",
       "2  -0.001421           Number of Children\n",
       "1  -0.001860                    Education\n",
       "0  -0.003728                       Income\n",
       "3  -0.035439                          Age"
      ]
     },
     "execution_count": 172,
     "metadata": {},
     "output_type": "execute_result"
    }
   ],
   "source": [
    "coef_df.nlargest(n=16, columns='coefs')"
   ]
  },
  {
   "cell_type": "code",
   "execution_count": 173,
   "metadata": {},
   "outputs": [
    {
     "ename": "ValueError",
     "evalue": "Cannot calculate Cumulative Gains for data with 4 category/ies",
     "output_type": "error",
     "traceback": [
      "\u001b[1;31m---------------------------------------------------------------------------\u001b[0m",
      "\u001b[1;31mValueError\u001b[0m                                Traceback (most recent call last)",
      "\u001b[1;32m<ipython-input-173-3dc021a05a5f>\u001b[0m in \u001b[0;36m<module>\u001b[1;34m\u001b[0m\n\u001b[1;32m----> 1\u001b[1;33m \u001b[0mskplt\u001b[0m\u001b[1;33m.\u001b[0m\u001b[0mmetrics\u001b[0m\u001b[1;33m.\u001b[0m\u001b[0mplot_cumulative_gain\u001b[0m\u001b[1;33m(\u001b[0m\u001b[0my_test\u001b[0m\u001b[1;33m,\u001b[0m \u001b[0mlgr\u001b[0m\u001b[1;33m.\u001b[0m\u001b[0mpredict_proba\u001b[0m\u001b[1;33m(\u001b[0m\u001b[0mX_test\u001b[0m\u001b[1;33m)\u001b[0m\u001b[1;33m)\u001b[0m\u001b[1;33m\u001b[0m\u001b[1;33m\u001b[0m\u001b[0m\n\u001b[0m",
      "\u001b[1;32m~\\.conda\\envs\\py37\\lib\\site-packages\\scikitplot\\metrics.py\u001b[0m in \u001b[0;36mplot_cumulative_gain\u001b[1;34m(y_true, y_probas, title, ax, figsize, title_fontsize, text_fontsize)\u001b[0m\n\u001b[0;32m   1101\u001b[0m     \u001b[1;32mif\u001b[0m \u001b[0mlen\u001b[0m\u001b[1;33m(\u001b[0m\u001b[0mclasses\u001b[0m\u001b[1;33m)\u001b[0m \u001b[1;33m!=\u001b[0m \u001b[1;36m2\u001b[0m\u001b[1;33m:\u001b[0m\u001b[1;33m\u001b[0m\u001b[1;33m\u001b[0m\u001b[0m\n\u001b[0;32m   1102\u001b[0m         raise ValueError('Cannot calculate Cumulative Gains for data with '\n\u001b[1;32m-> 1103\u001b[1;33m                          '{} category/ies'.format(len(classes)))\n\u001b[0m\u001b[0;32m   1104\u001b[0m \u001b[1;33m\u001b[0m\u001b[0m\n\u001b[0;32m   1105\u001b[0m     \u001b[1;31m# Compute Cumulative Gain Curves\u001b[0m\u001b[1;33m\u001b[0m\u001b[1;33m\u001b[0m\u001b[1;33m\u001b[0m\u001b[0m\n",
      "\u001b[1;31mValueError\u001b[0m: Cannot calculate Cumulative Gains for data with 4 category/ies"
     ]
    }
   ],
   "source": [
    "skplt.metrics.plot_cumulative_gain(y_test, lgr.predict_proba(X_test))"
   ]
  },
  {
   "cell_type": "code",
   "execution_count": 183,
   "metadata": {},
   "outputs": [
    {
     "data": {
      "image/png": "[encoded data removed]",
      "text/plain": [
       "<Figure size 1440x720 with 2 Axes>"
      ]
     },
     "metadata": {
      "needs_background": "light"
     },
     "output_type": "display_data"
    }
   ],
   "source": [
    "f, ax = plt.subplots(figsize=(20, 10))\n",
    "ax = sns.heatmap(houshold_grpd.corr(), annot = True)\n",
    "    "
   ]
  },
  {
   "cell_type": "code",
   "execution_count": 184,
   "metadata": {},
   "outputs": [
    {
     "data": {
      "text/plain": [
       "<matplotlib.axes._subplots.AxesSubplot at 0x21b09059688>"
      ]
     },
     "execution_count": 184,
     "metadata": {},
     "output_type": "execute_result"
    },
    {
     "data": {
      "image/png": "[encoded data removed]",
      "text/plain": [
       "<Figure size 432x288 with 2 Axes>"
      ]
     },
     "metadata": {
      "needs_background": "light"
     },
     "output_type": "display_data"
    }
   ],
   "source": [
    "sns.heatmap(houshold_grpd.corr()[['Credit Ranges']], annot = True)"
   ]
  },
  {
   "cell_type": "code",
   "execution_count": null,
   "metadata": {},
   "outputs": [],
   "source": []
  },
  {
   "cell_type": "code",
   "execution_count": 188,
   "metadata": {},
   "outputs": [
    {
     "name": "stderr",
     "output_type": "stream",
     "text": [
      "C:\\Users\\ARASH-FEA\\.conda\\envs\\py37\\lib\\site-packages\\sklearn\\linear_model\\_logistic.py:940: ConvergenceWarning: lbfgs failed to converge (status=1):\n",
      "STOP: TOTAL NO. of ITERATIONS REACHED LIMIT.\n",
      "\n",
      "Increase the number of iterations (max_iter) or scale the data as shown in:\n",
      "    https://scikit-learn.org/stable/modules/preprocessing.html\n",
      "Please also refer to the documentation for alternative solver options:\n",
      "    https://scikit-learn.org/stable/modules/linear_model.html#logistic-regression\n",
      "  extra_warning_msg=_LOGISTIC_SOLVER_CONVERGENCE_MSG)\n"
     ]
    }
   ],
   "source": [
    "X = houshold_grpd.dropna()[['Income', 'Education', 'Number of Children', 'Age', 'Home Owner', 'FSV Credit Card Flag']]\n",
    "y = houshold_grpd.dropna()['Credit Ranges']\n",
    "X_train, X_test, y_train, y_test = train_test_split(X, y)\n",
    "lgr = LogisticRegression()\n",
    "forest = RandomForestClassifier(n_estimators=100, max_depth=3)\n",
    "lgr.fit(X_train, y_train)\n",
    "forest.fit(X_train, y_train)\n",
    "s_lgr = lgr.score(X_test, y_test)\n",
    "s_forest = forest.score(X_test, y_test)"
   ]
  },
  {
   "cell_type": "code",
   "execution_count": 189,
   "metadata": {},
   "outputs": [
    {
     "data": {
      "text/plain": [
       "(0.5712, 0.584)"
      ]
     },
     "execution_count": 189,
     "metadata": {},
     "output_type": "execute_result"
    }
   ],
   "source": [
    "s_lgr, s_forest"
   ]
  },
  {
   "cell_type": "code",
   "execution_count": null,
   "metadata": {},
   "outputs": [],
   "source": [
    "# not much better than major class (0.528)"
   ]
  },
  {
   "cell_type": "code",
   "execution_count": 190,
   "metadata": {},
   "outputs": [
    {
     "data": {
      "text/plain": [
       "([0, 1, 2, 3, 4, 5], <a list of 6 Text xticklabel objects>)"
      ]
     },
     "execution_count": 190,
     "metadata": {},
     "output_type": "execute_result"
    },
    {
     "data": {
      "image/png": "[encoded data removed]",
      "text/plain": [
       "<Figure size 1080x432 with 1 Axes>"
      ]
     },
     "metadata": {
      "needs_background": "light"
     },
     "output_type": "display_data"
    }
   ],
   "source": [
    "coef_df = pd.DataFrame({'coefs': lgr.coef_[0], 'feature': X_test.columns})\n",
    "plt.figure(figsize = (15,6))\n",
    "plt.bar(coef_df['feature'], coef_df['coefs'])\n",
    "plt.xticks(rotation =90)"
   ]
  },
  {
   "cell_type": "code",
   "execution_count": null,
   "metadata": {},
   "outputs": [],
   "source": []
  },
  {
   "cell_type": "code",
   "execution_count": 197,
   "metadata": {},
   "outputs": [],
   "source": [
    "X = houshold_grpd.dropna()[['Income', 'Education', 'Number of Children', 'Home Owner']]\n",
    "y = houshold_grpd.dropna()['Credit Ranges']\n",
    "X_train, X_test, y_train, y_test = train_test_split(X, y)\n",
    "lgr = LogisticRegression()\n",
    "forest = RandomForestClassifier(n_estimators=100, max_depth=5)\n",
    "lgr.fit(X_train, y_train)\n",
    "forest.fit(X_train, y_train)\n",
    "s_lgr = lgr.score(X_test, y_test)\n",
    "s_forest = forest.score(X_test, y_test)"
   ]
  },
  {
   "cell_type": "code",
   "execution_count": 198,
   "metadata": {},
   "outputs": [
    {
     "data": {
      "text/plain": [
       "(0.5648, 0.5616)"
      ]
     },
     "execution_count": 198,
     "metadata": {},
     "output_type": "execute_result"
    }
   ],
   "source": [
    "s_lgr, s_forest"
   ]
  },
  {
   "cell_type": "code",
   "execution_count": 199,
   "metadata": {},
   "outputs": [
    {
     "data": {
      "text/plain": [
       "([0, 1, 2, 3], <a list of 4 Text xticklabel objects>)"
      ]
     },
     "execution_count": 199,
     "metadata": {},
     "output_type": "execute_result"
    },
    {
     "data": {
      "image/png": "[encoded data removed]",
      "text/plain": [
       "<Figure size 1080x432 with 1 Axes>"
      ]
     },
     "metadata": {
      "needs_background": "light"
     },
     "output_type": "display_data"
    }
   ],
   "source": [
    "coef_df = pd.DataFrame({'coefs': lgr.coef_[0], 'feature': X_test.columns})\n",
    "plt.figure(figsize = (15,6))\n",
    "plt.bar(coef_df['feature'], coef_df['coefs'])\n",
    "plt.xticks(rotation =90)"
   ]
  },
  {
   "cell_type": "code",
   "execution_count": null,
   "metadata": {},
   "outputs": [],
   "source": []
  },
  {
   "cell_type": "code",
   "execution_count": null,
   "metadata": {},
   "outputs": [],
   "source": []
  },
  {
   "cell_type": "code",
   "execution_count": null,
   "metadata": {},
   "outputs": [],
   "source": [
    "risky_cars = pd.get_dummies(data[['Household Key', 'ERS Member Cost for 3 Years', 'SC Vehicle Manufacturer Name']])"
   ]
  },
  {
   "cell_type": "code",
   "execution_count": null,
   "metadata": {},
   "outputs": [],
   "source": []
  },
  {
   "cell_type": "code",
   "execution_count": null,
   "metadata": {},
   "outputs": [],
   "source": []
  }
 ],
 "metadata": {
  "kernelspec": {
   "display_name": "Python 3",
   "language": "python",
   "name": "python3"
  },
  "language_info": {
   "codemirror_mode": {
    "name": "ipython",
    "version": 3
   },
   "file_extension": ".py",
   "mimetype": "text/x-python",
   "name": "python",
   "nbconvert_exporter": "python",
   "pygments_lexer": "ipython3",
   "version": "3.7.6"
  }
 },
 "nbformat": 4,
 "nbformat_minor": 4
}
